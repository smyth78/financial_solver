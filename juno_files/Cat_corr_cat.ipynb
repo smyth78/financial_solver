{
 "cells": [
  {
   "cell_type": "markdown",
   "id": "6480e243",
   "metadata": {},
   "source": [
    "* random cat data\n",
    "* random cat data corellated with other cat data"
   ]
  },
  {
   "cell_type": "code",
   "execution_count": null,
   "id": "00d3282c",
   "metadata": {},
   "outputs": [],
   "source": [
    "import pandas as pd\n",
    "import seaborn as sns\n",
    "import matplotlib.pyplot as plt\n",
    "import numpy as np\n",
    "\n",
    "df = pd.DataFrame()"
   ]
  },
  {
   "cell_type": "code",
   "execution_count": 25,
   "id": "e2f99b5f-81b4-4bc2-89b4-d56364cf9de3",
   "metadata": {},
   "outputs": [],
   "source": [
    "n = 300\n",
    "\n",
    "def create_new_cat_row(df, feature_name, cat_names, probs):\n",
    "    df[feature_name] = np.random.choice(cat_names, n, p=probs)\n",
    "    return df\n",
    "\n",
    "def create_new_num_row(df, params_list, f_name):\n",
    "    df[f_name] = np.random.normal(params_list[0], params_list[1], n)\n",
    "    return df\n",
    "\n",
    "def get_cat_feature_counts(df, corr_feature, cats):\n",
    "    counts = {}\n",
    "    for cat in cats:\n",
    "        count = len(df.loc[df[corr_feature] == cat])\n",
    "        counts[cat] = count\n",
    "    return counts"
   ]
  },
  {
   "cell_type": "code",
   "execution_count": 26,
   "id": "8146dac3",
   "metadata": {},
   "outputs": [],
   "source": [
    "# input from browser uncorrelated  CAT feature 1\n",
    "feature_name = 'gender'\n",
    "cats = ['male', 'female']\n",
    "params = [0.45, 0.55]\n",
    "df = create_new_cat_row(df, feature_name, cats, params)"
   ]
  },
  {
   "cell_type": "code",
   "execution_count": 9,
   "id": "d72af07f",
   "metadata": {},
   "outputs": [],
   "source": [
    "# input from uncorrelated NUM feature 1\n",
    "feature_name = 'reaction'\n",
    "params = [2, 0.1]\n",
    "df = create_new_num_row(df, params, feature_name)"
   ]
  },
  {
   "cell_type": "code",
   "execution_count": 10,
   "id": "fa62708a",
   "metadata": {},
   "outputs": [],
   "source": [
    "# input from browser uncorrelated CAT feature 2 \n",
    "fea7re_name = 'handed'\n",
    "cats = ['left', 'right']\n",
    "probs = [0.3, 0.7]\n",
    "df = create_new_cat_row(df, feature_name, cats, probs)"
   ]
  },
  {
   "cell_type": "code",
   "execution_count": 27,
   "id": "18275932",
   "metadata": {},
   "outputs": [
    {
     "name": "stderr",
     "output_type": "stream",
     "text": [
      "__main__:19: SettingWithCopyWarning: \n",
      "A value is trying to be set on a copy of a slice from a DataFrame.\n",
      "Try using .loc[row_indexer,col_indexer] = value instead\n",
      "\n",
      "See the caveats in the documentation: https://pandas.pydata.org/pandas-docs/stable/user_guide/indexing.html#returning-a-view-versus-a-copy\n"
     ]
    }
   ],
   "source": [
    "# new CAT feature which is correlated to another one 1\n",
    "orig_f = 'gender'\n",
    "new_f_name = 'event'\n",
    "cats = ['male', 'female']\n",
    "counts = get_cat_feature_counts(df, orig_f, cats)\n",
    "new_cats = {'male': {'cats': ['weight lifter', 'ballet'],\n",
    "                     'prob': [0.7, 0.3],\n",
    "                     'size': counts['male']},\n",
    "            'female': {'cats': ['weight lifter', 'ballet'],\n",
    "                       'prob': [0.3, 0.7],\n",
    "                       'size': counts['female']}\n",
    "           }\n",
    "df = add_corr_cat_feature(df, orig_f, new_f_name, new_cats, True)"
   ]
  },
  {
   "cell_type": "code",
   "execution_count": 12,
   "id": "279d719a",
   "metadata": {},
   "outputs": [
    {
     "ename": "NameError",
     "evalue": "name 'add_corr_cat_feature' is not defined",
     "output_type": "error",
     "traceback": [
      "\u001b[0;31m---------------------------------------------------------------------------\u001b[0m",
      "\u001b[0;31mNameError\u001b[0m                                 Traceback (most recent call last)",
      "\u001b[0;32m<ipython-input-12-f97cb297bf99>\u001b[0m in \u001b[0;36m<module>\u001b[0;34m\u001b[0m\n\u001b[1;32m     11\u001b[0m                        'size': counts['female']}\n\u001b[1;32m     12\u001b[0m            }\n\u001b[0;32m---> 13\u001b[0;31m \u001b[0mdf\u001b[0m \u001b[0;34m=\u001b[0m \u001b[0madd_corr_cat_feature\u001b[0m\u001b[0;34m(\u001b[0m\u001b[0mdf\u001b[0m\u001b[0;34m,\u001b[0m \u001b[0morig_f\u001b[0m\u001b[0;34m,\u001b[0m \u001b[0mnew_f_name\u001b[0m\u001b[0;34m,\u001b[0m \u001b[0mnew_cats\u001b[0m\u001b[0;34m,\u001b[0m \u001b[0;32mFalse\u001b[0m\u001b[0;34m)\u001b[0m\u001b[0;34m\u001b[0m\u001b[0m\n\u001b[0m",
      "\u001b[0;31mNameError\u001b[0m: name 'add_corr_cat_feature' is not defined"
     ]
    }
   ],
   "source": [
    "# add NUM feature which is correlated to CAT feature 1\n",
    "orig_f = 'gender'\n",
    "new_f_name = 'height'\n",
    "cats = ['male', 'female']\n",
    "counts = get_cat_feature_counts(df, orig_f, cats)\n",
    "new_cats = {'male': {'cats': np.nan,\n",
    "                     'prob': [172, 15],\n",
    "                     'size': counts['male']},\n",
    "            'female': {'cats': np.nan,\n",
    "                       'prob': [152, 5],\n",
    "                       'size': counts['female']}\n",
    "           }\n",
    "df = add_corr_cat_feature(df, orig_f, new_f_name, new_cats, False)"
   ]
  },
  {
   "cell_type": "code",
   "execution_count": 13,
   "id": "d052d390",
   "metadata": {},
   "outputs": [
    {
     "ename": "NameError",
     "evalue": "name 'add_corr_cat_feature' is not defined",
     "output_type": "error",
     "traceback": [
      "\u001b[0;31m---------------------------------------------------------------------------\u001b[0m",
      "\u001b[0;31mNameError\u001b[0m                                 Traceback (most recent call last)",
      "\u001b[0;32m<ipython-input-13-9d288839ad7a>\u001b[0m in \u001b[0;36m<module>\u001b[0;34m\u001b[0m\n\u001b[1;32m     11\u001b[0m                        'size': counts['right']}\n\u001b[1;32m     12\u001b[0m            }\n\u001b[0;32m---> 13\u001b[0;31m \u001b[0mdf\u001b[0m \u001b[0;34m=\u001b[0m \u001b[0madd_corr_cat_feature\u001b[0m\u001b[0;34m(\u001b[0m\u001b[0mdf\u001b[0m\u001b[0;34m,\u001b[0m \u001b[0morig_f\u001b[0m\u001b[0;34m,\u001b[0m \u001b[0mnew_f_name\u001b[0m\u001b[0;34m,\u001b[0m \u001b[0mnew_cats\u001b[0m\u001b[0;34m,\u001b[0m \u001b[0;32mTrue\u001b[0m\u001b[0;34m)\u001b[0m\u001b[0;34m\u001b[0m\u001b[0m\n\u001b[0m",
      "\u001b[0;31mNameError\u001b[0m: name 'add_corr_cat_feature' is not defined"
     ]
    }
   ],
   "source": [
    "# new CAT feature which is correlated to another one 2\n",
    "orig_f = 'handed'\n",
    "new_f_name = 'preferred hand'\n",
    "cats = ['left', 'right']\n",
    "counts = get_cat_feature_counts(df, feature_name, cats)\n",
    "new_cats = {'left': {'cats': ['LEFTY', 'm_L'],\n",
    "                     'prob': [0.3, 0.7],\n",
    "                     'size': counts['left']},\n",
    "            'right': {'cats': ['RIGHTY', 'm_R'],\n",
    "                       'prob': [0.8, 0.2],\n",
    "                       'size': counts['right']}\n",
    "           }\n",
    "df = add_corr_cat_feature(df, orig_f, new_f_name, new_cats, True)"
   ]
  },
  {
   "cell_type": "code",
   "execution_count": 14,
   "id": "7e4868a1",
   "metadata": {},
   "outputs": [
    {
     "ename": "KeyError",
     "evalue": "'left'",
     "output_type": "error",
     "traceback": [
      "\u001b[0;31m---------------------------------------------------------------------------\u001b[0m",
      "\u001b[0;31mKeyError\u001b[0m                                  Traceback (most recent call last)",
      "\u001b[0;32m<ipython-input-14-0083c061f8f4>\u001b[0m in \u001b[0;36m<module>\u001b[0;34m\u001b[0m\n\u001b[1;32m      6\u001b[0m new_cats = {'weight lifting': {'cats': np.nan,\n\u001b[1;32m      7\u001b[0m                      \u001b[0;34m'prob'\u001b[0m\u001b[0;34m:\u001b[0m \u001b[0;34m[\u001b[0m\u001b[0;36m50\u001b[0m\u001b[0;34m,\u001b[0m \u001b[0;36m1\u001b[0m\u001b[0;34m]\u001b[0m\u001b[0;34m,\u001b[0m\u001b[0;34m\u001b[0m\u001b[0m\n\u001b[0;32m----> 8\u001b[0;31m                      'size': counts['left']},\n\u001b[0m\u001b[1;32m      9\u001b[0m             'ballet': {'cats': np.nan,\n\u001b[1;32m     10\u001b[0m                        \u001b[0;34m'prob'\u001b[0m\u001b[0;34m:\u001b[0m \u001b[0;34m[\u001b[0m\u001b[0;36m10\u001b[0m\u001b[0;34m,\u001b[0m \u001b[0;36m1\u001b[0m\u001b[0;34m]\u001b[0m\u001b[0;34m,\u001b[0m\u001b[0;34m\u001b[0m\u001b[0m\n",
      "\u001b[0;31mKeyError\u001b[0m: 'left'"
     ]
    }
   ],
   "source": [
    "# add NUM feature which is correlated to CAT feature 2\n",
    "orig_f = 'event'\n",
    "new_f_name = 'weight'\n",
    "cats = ['weight lifting', 'ballet']\n",
    "counts = get_cat_feature_counts(df, feature_name, cats)\n",
    "new_cats = {'weight lifting': {'cats': np.nan,\n",
    "                     'prob': [50, 1],\n",
    "                     'size': counts['left']},\n",
    "            'ballet': {'cats': np.nan,\n",
    "                       'prob': [10, 1],\n",
    "                       'size': counts['right']}\n",
    "           }\n",
    "df = add_corr_cat_feature(df, orig_f, new_f_name, new_cats, False)"
   ]
  },
  {
   "cell_type": "code",
   "execution_count": 15,
   "id": "df304dbe",
   "metadata": {},
   "outputs": [],
   "source": [
    "def combine_rows(row):\n",
    "    if row[1] is '':\n",
    "        return row[0]\n",
    "    else:\n",
    "        return row[1]"
   ]
  },
  {
   "cell_type": "code",
   "execution_count": 16,
   "id": "a0e01bb9",
   "metadata": {},
   "outputs": [],
   "source": [
    "def add_corr_cat_feature(df, orig_f, new_f_name, new_cats, is_cat):\n",
    "    final_columns = df.columns.to_list()\n",
    "    final_columns.append(new_f_name)\n",
    "    final_columns.append('index')\n",
    "    \n",
    "    temp_df = df.copy()\n",
    "    temp_df = temp_df[[orig_f]]\n",
    "\n",
    "    df['index'] = df.index\n",
    "    temp_df['index'] = temp_df.index\n",
    "\n",
    "    temp_df[new_f_name] = np.nan if is_cat else 0\n",
    "    df[new_f_name] = np.nan if is_cat else 0\n",
    "    \n",
    "    for cat in temp_df[orig_f].unique():\n",
    "        sub_df = temp_df.loc[temp_df[orig_f] == cat]\n",
    "        sub_dict = new_cats[cat]\n",
    "        if is_cat:\n",
    "            sub_df[new_f_name] = np.array(np.random.choice(sub_dict['cats'], sub_dict['size'], p=sub_dict['prob']))\n",
    "        else:\n",
    "            sub_df[new_f_name] = np.random.normal(sub_dict['prob'][0], sub_dict['prob'][1], sub_dict['size'])\n",
    "            \n",
    "        temp_df = temp_df.merge(sub_df, on=[orig_f, 'index'], how='left')\n",
    "        l_suff = new_f_name + '_x'\n",
    "        r_suff = new_f_name + '_y'\n",
    "        if is_cat:\n",
    "            temp_df[new_f_name] = temp_df[[l_suff, r_suff]].apply(lambda x: ''.join(x.dropna()), axis=1)\n",
    "        else:\n",
    "            temp_df[new_f_name] = (temp_df[[l_suff, r_suff]]\n",
    "                                   .fillna(0)\n",
    "                                   .apply(lambda x: x[l_suff] + x[r_suff], axis=1))   \n",
    "        temp_df = temp_df[[orig_f, new_f_name, 'index']]\n",
    "        df = df.merge(temp_df, on=[orig_f, 'index'], how='left')\n",
    "        l_suff = new_f_name + '_x'\n",
    "        r_suff = new_f_name + '_y'\n",
    "        df[new_f_name] = df[[l_suff, r_suff]].apply(combine_rows, axis=1)\n",
    "        df = df[final_columns]\n",
    "    df = (df.drop('index',axis=1)\n",
    "          .reset_index(drop=True)\n",
    "          .sort_index())\n",
    "    return df"
   ]
  },
  {
   "cell_type": "code",
   "execution_count": 17,
   "id": "b68bd939",
   "metadata": {},
   "outputs": [
    {
     "ename": "KeyError",
     "evalue": "'handed'",
     "output_type": "error",
     "traceback": [
      "\u001b[0;31m---------------------------------------------------------------------------\u001b[0m",
      "\u001b[0;31mKeyError\u001b[0m                                  Traceback (most recent call last)",
      "\u001b[0;32m~/lib/python3.6/site-packages/pandas/core/indexes/base.py\u001b[0m in \u001b[0;36mget_loc\u001b[0;34m(self, key, method, tolerance)\u001b[0m\n\u001b[1;32m   2645\u001b[0m             \u001b[0;32mtry\u001b[0m\u001b[0;34m:\u001b[0m\u001b[0;34m\u001b[0m\u001b[0m\n\u001b[0;32m-> 2646\u001b[0;31m                 \u001b[0;32mreturn\u001b[0m \u001b[0mself\u001b[0m\u001b[0;34m.\u001b[0m\u001b[0m_engine\u001b[0m\u001b[0;34m.\u001b[0m\u001b[0mget_loc\u001b[0m\u001b[0;34m(\u001b[0m\u001b[0mkey\u001b[0m\u001b[0;34m)\u001b[0m\u001b[0;34m\u001b[0m\u001b[0m\n\u001b[0m\u001b[1;32m   2647\u001b[0m             \u001b[0;32mexcept\u001b[0m \u001b[0mKeyError\u001b[0m\u001b[0;34m:\u001b[0m\u001b[0;34m\u001b[0m\u001b[0m\n",
      "\u001b[0;32mpandas/_libs/index.pyx\u001b[0m in \u001b[0;36mpandas._libs.index.IndexEngine.get_loc\u001b[0;34m()\u001b[0m\n",
      "\u001b[0;32mpandas/_libs/index.pyx\u001b[0m in \u001b[0;36mpandas._libs.index.IndexEngine.get_loc\u001b[0;34m()\u001b[0m\n",
      "\u001b[0;32mpandas/_libs/hashtable_class_helper.pxi\u001b[0m in \u001b[0;36mpandas._libs.hashtable.PyObjectHashTable.get_item\u001b[0;34m()\u001b[0m\n",
      "\u001b[0;32mpandas/_libs/hashtable_class_helper.pxi\u001b[0m in \u001b[0;36mpandas._libs.hashtable.PyObjectHashTable.get_item\u001b[0;34m()\u001b[0m\n",
      "\u001b[0;31mKeyError\u001b[0m: 'handed'",
      "\nDuring handling of the above exception, another exception occurred:\n",
      "\u001b[0;31mKeyError\u001b[0m                                  Traceback (most recent call last)",
      "\u001b[0;32m<ipython-input-17-ba492c850336>\u001b[0m in \u001b[0;36m<module>\u001b[0;34m\u001b[0m\n\u001b[0;32m----> 1\u001b[0;31m \u001b[0mdf\u001b[0m\u001b[0;34m.\u001b[0m\u001b[0mloc\u001b[0m\u001b[0;34m[\u001b[0m\u001b[0mdf\u001b[0m\u001b[0;34m[\u001b[0m\u001b[0;34m'handed'\u001b[0m\u001b[0;34m]\u001b[0m \u001b[0;34m==\u001b[0m \u001b[0;34m'right'\u001b[0m\u001b[0;34m]\u001b[0m\u001b[0;34m[\u001b[0m\u001b[0;34m'weight'\u001b[0m\u001b[0;34m]\u001b[0m\u001b[0;34m.\u001b[0m\u001b[0mmean\u001b[0m\u001b[0;34m(\u001b[0m\u001b[0;34m)\u001b[0m\u001b[0;34m\u001b[0m\u001b[0m\n\u001b[0m",
      "\u001b[0;32m~/lib/python3.6/site-packages/pandas/core/frame.py\u001b[0m in \u001b[0;36m__getitem__\u001b[0;34m(self, key)\u001b[0m\n\u001b[1;32m   2798\u001b[0m             \u001b[0;32mif\u001b[0m \u001b[0mself\u001b[0m\u001b[0;34m.\u001b[0m\u001b[0mcolumns\u001b[0m\u001b[0;34m.\u001b[0m\u001b[0mnlevels\u001b[0m \u001b[0;34m>\u001b[0m \u001b[0;36m1\u001b[0m\u001b[0;34m:\u001b[0m\u001b[0;34m\u001b[0m\u001b[0m\n\u001b[1;32m   2799\u001b[0m                 \u001b[0;32mreturn\u001b[0m \u001b[0mself\u001b[0m\u001b[0;34m.\u001b[0m\u001b[0m_getitem_multilevel\u001b[0m\u001b[0;34m(\u001b[0m\u001b[0mkey\u001b[0m\u001b[0;34m)\u001b[0m\u001b[0;34m\u001b[0m\u001b[0m\n\u001b[0;32m-> 2800\u001b[0;31m             \u001b[0mindexer\u001b[0m \u001b[0;34m=\u001b[0m \u001b[0mself\u001b[0m\u001b[0;34m.\u001b[0m\u001b[0mcolumns\u001b[0m\u001b[0;34m.\u001b[0m\u001b[0mget_loc\u001b[0m\u001b[0;34m(\u001b[0m\u001b[0mkey\u001b[0m\u001b[0;34m)\u001b[0m\u001b[0;34m\u001b[0m\u001b[0m\n\u001b[0m\u001b[1;32m   2801\u001b[0m             \u001b[0;32mif\u001b[0m \u001b[0mis_integer\u001b[0m\u001b[0;34m(\u001b[0m\u001b[0mindexer\u001b[0m\u001b[0;34m)\u001b[0m\u001b[0;34m:\u001b[0m\u001b[0;34m\u001b[0m\u001b[0m\n\u001b[1;32m   2802\u001b[0m                 \u001b[0mindexer\u001b[0m \u001b[0;34m=\u001b[0m \u001b[0;34m[\u001b[0m\u001b[0mindexer\u001b[0m\u001b[0;34m]\u001b[0m\u001b[0;34m\u001b[0m\u001b[0m\n",
      "\u001b[0;32m~/lib/python3.6/site-packages/pandas/core/indexes/base.py\u001b[0m in \u001b[0;36mget_loc\u001b[0;34m(self, key, method, tolerance)\u001b[0m\n\u001b[1;32m   2646\u001b[0m                 \u001b[0;32mreturn\u001b[0m \u001b[0mself\u001b[0m\u001b[0;34m.\u001b[0m\u001b[0m_engine\u001b[0m\u001b[0;34m.\u001b[0m\u001b[0mget_loc\u001b[0m\u001b[0;34m(\u001b[0m\u001b[0mkey\u001b[0m\u001b[0;34m)\u001b[0m\u001b[0;34m\u001b[0m\u001b[0m\n\u001b[1;32m   2647\u001b[0m             \u001b[0;32mexcept\u001b[0m \u001b[0mKeyError\u001b[0m\u001b[0;34m:\u001b[0m\u001b[0;34m\u001b[0m\u001b[0m\n\u001b[0;32m-> 2648\u001b[0;31m                 \u001b[0;32mreturn\u001b[0m \u001b[0mself\u001b[0m\u001b[0;34m.\u001b[0m\u001b[0m_engine\u001b[0m\u001b[0;34m.\u001b[0m\u001b[0mget_loc\u001b[0m\u001b[0;34m(\u001b[0m\u001b[0mself\u001b[0m\u001b[0;34m.\u001b[0m\u001b[0m_maybe_cast_indexer\u001b[0m\u001b[0;34m(\u001b[0m\u001b[0mkey\u001b[0m\u001b[0;34m)\u001b[0m\u001b[0;34m)\u001b[0m\u001b[0;34m\u001b[0m\u001b[0m\n\u001b[0m\u001b[1;32m   2649\u001b[0m         \u001b[0mindexer\u001b[0m \u001b[0;34m=\u001b[0m \u001b[0mself\u001b[0m\u001b[0;34m.\u001b[0m\u001b[0mget_indexer\u001b[0m\u001b[0;34m(\u001b[0m\u001b[0;34m[\u001b[0m\u001b[0mkey\u001b[0m\u001b[0;34m]\u001b[0m\u001b[0;34m,\u001b[0m \u001b[0mmethod\u001b[0m\u001b[0;34m=\u001b[0m\u001b[0mmethod\u001b[0m\u001b[0;34m,\u001b[0m \u001b[0mtolerance\u001b[0m\u001b[0;34m=\u001b[0m\u001b[0mtolerance\u001b[0m\u001b[0;34m)\u001b[0m\u001b[0;34m\u001b[0m\u001b[0m\n\u001b[1;32m   2650\u001b[0m         \u001b[0;32mif\u001b[0m \u001b[0mindexer\u001b[0m\u001b[0;34m.\u001b[0m\u001b[0mndim\u001b[0m \u001b[0;34m>\u001b[0m \u001b[0;36m1\u001b[0m \u001b[0;32mor\u001b[0m \u001b[0mindexer\u001b[0m\u001b[0;34m.\u001b[0m\u001b[0msize\u001b[0m \u001b[0;34m>\u001b[0m \u001b[0;36m1\u001b[0m\u001b[0;34m:\u001b[0m\u001b[0;34m\u001b[0m\u001b[0m\n",
      "\u001b[0;32mpandas/_libs/index.pyx\u001b[0m in \u001b[0;36mpandas._libs.index.IndexEngine.get_loc\u001b[0;34m()\u001b[0m\n",
      "\u001b[0;32mpandas/_libs/index.pyx\u001b[0m in \u001b[0;36mpandas._libs.index.IndexEngine.get_loc\u001b[0;34m()\u001b[0m\n",
      "\u001b[0;32mpandas/_libs/hashtable_class_helper.pxi\u001b[0m in \u001b[0;36mpandas._libs.hashtable.PyObjectHashTable.get_item\u001b[0;34m()\u001b[0m\n",
      "\u001b[0;32mpandas/_libs/hashtable_class_helper.pxi\u001b[0m in \u001b[0;36mpandas._libs.hashtable.PyObjectHashTable.get_item\u001b[0;34m()\u001b[0m\n",
      "\u001b[0;31mKeyError\u001b[0m: 'handed'"
     ]
    }
   ],
   "source": [
    "df.loc[df['handed'] == 'right']['weight'].mean()"
   ]
  },
  {
   "cell_type": "code",
   "execution_count": 18,
   "id": "639543ec",
   "metadata": {},
   "outputs": [
    {
     "data": {
      "text/html": [
       "<div>\n",
       "<style scoped>\n",
       "    .dataframe tbody tr th:only-of-type {\n",
       "        vertical-align: middle;\n",
       "    }\n",
       "\n",
       "    .dataframe tbody tr th {\n",
       "        vertical-align: top;\n",
       "    }\n",
       "\n",
       "    .dataframe thead th {\n",
       "        text-align: right;\n",
       "    }\n",
       "</style>\n",
       "<table border=\"1\" class=\"dataframe\">\n",
       "  <thead>\n",
       "    <tr style=\"text-align: right;\">\n",
       "      <th></th>\n",
       "      <th>gender</th>\n",
       "      <th>reaction</th>\n",
       "    </tr>\n",
       "  </thead>\n",
       "  <tbody>\n",
       "    <tr>\n",
       "      <th>0</th>\n",
       "      <td>female</td>\n",
       "      <td>right</td>\n",
       "    </tr>\n",
       "    <tr>\n",
       "      <th>1</th>\n",
       "      <td>male</td>\n",
       "      <td>right</td>\n",
       "    </tr>\n",
       "    <tr>\n",
       "      <th>2</th>\n",
       "      <td>female</td>\n",
       "      <td>right</td>\n",
       "    </tr>\n",
       "    <tr>\n",
       "      <th>3</th>\n",
       "      <td>female</td>\n",
       "      <td>left</td>\n",
       "    </tr>\n",
       "    <tr>\n",
       "      <th>4</th>\n",
       "      <td>female</td>\n",
       "      <td>right</td>\n",
       "    </tr>\n",
       "  </tbody>\n",
       "</table>\n",
       "</div>"
      ],
      "text/plain": [
       "   gender reaction\n",
       "0  female    right\n",
       "1    male    right\n",
       "2  female    right\n",
       "3  female     left\n",
       "4  female    right"
      ]
     },
     "execution_count": 18,
     "metadata": {},
     "output_type": "execute_result"
    }
   ],
   "source": [
    "df.head()"
   ]
  },
  {
   "cell_type": "code",
   "execution_count": 19,
   "id": "239abd64",
   "metadata": {},
   "outputs": [
    {
     "ename": "KeyError",
     "evalue": "'height'",
     "output_type": "error",
     "traceback": [
      "\u001b[0;31m---------------------------------------------------------------------------\u001b[0m",
      "\u001b[0;31mKeyError\u001b[0m                                  Traceback (most recent call last)",
      "\u001b[0;32m~/lib/python3.6/site-packages/pandas/core/indexes/base.py\u001b[0m in \u001b[0;36mget_loc\u001b[0;34m(self, key, method, tolerance)\u001b[0m\n\u001b[1;32m   2645\u001b[0m             \u001b[0;32mtry\u001b[0m\u001b[0;34m:\u001b[0m\u001b[0;34m\u001b[0m\u001b[0m\n\u001b[0;32m-> 2646\u001b[0;31m                 \u001b[0;32mreturn\u001b[0m \u001b[0mself\u001b[0m\u001b[0;34m.\u001b[0m\u001b[0m_engine\u001b[0m\u001b[0;34m.\u001b[0m\u001b[0mget_loc\u001b[0m\u001b[0;34m(\u001b[0m\u001b[0mkey\u001b[0m\u001b[0;34m)\u001b[0m\u001b[0;34m\u001b[0m\u001b[0m\n\u001b[0m\u001b[1;32m   2647\u001b[0m             \u001b[0;32mexcept\u001b[0m \u001b[0mKeyError\u001b[0m\u001b[0;34m:\u001b[0m\u001b[0;34m\u001b[0m\u001b[0m\n",
      "\u001b[0;32mpandas/_libs/index.pyx\u001b[0m in \u001b[0;36mpandas._libs.index.IndexEngine.get_loc\u001b[0;34m()\u001b[0m\n",
      "\u001b[0;32mpandas/_libs/index.pyx\u001b[0m in \u001b[0;36mpandas._libs.index.IndexEngine.get_loc\u001b[0;34m()\u001b[0m\n",
      "\u001b[0;32mpandas/_libs/hashtable_class_helper.pxi\u001b[0m in \u001b[0;36mpandas._libs.hashtable.PyObjectHashTable.get_item\u001b[0;34m()\u001b[0m\n",
      "\u001b[0;32mpandas/_libs/hashtable_class_helper.pxi\u001b[0m in \u001b[0;36mpandas._libs.hashtable.PyObjectHashTable.get_item\u001b[0;34m()\u001b[0m\n",
      "\u001b[0;31mKeyError\u001b[0m: 'height'",
      "\nDuring handling of the above exception, another exception occurred:\n",
      "\u001b[0;31mKeyError\u001b[0m                                  Traceback (most recent call last)",
      "\u001b[0;32m<ipython-input-19-bd761eb9e99a>\u001b[0m in \u001b[0;36m<module>\u001b[0;34m\u001b[0m\n\u001b[0;32m----> 1\u001b[0;31m \u001b[0mdf\u001b[0m\u001b[0;34m.\u001b[0m\u001b[0mloc\u001b[0m\u001b[0;34m[\u001b[0m\u001b[0mdf\u001b[0m\u001b[0;34m[\u001b[0m\u001b[0;34m'gender'\u001b[0m\u001b[0;34m]\u001b[0m \u001b[0;34m==\u001b[0m \u001b[0;34m'male'\u001b[0m\u001b[0;34m]\u001b[0m\u001b[0;34m[\u001b[0m\u001b[0;34m'height'\u001b[0m\u001b[0;34m]\u001b[0m\u001b[0;34m.\u001b[0m\u001b[0mmean\u001b[0m\u001b[0;34m(\u001b[0m\u001b[0;34m)\u001b[0m\u001b[0;34m\u001b[0m\u001b[0m\n\u001b[0m",
      "\u001b[0;32m~/lib/python3.6/site-packages/pandas/core/frame.py\u001b[0m in \u001b[0;36m__getitem__\u001b[0;34m(self, key)\u001b[0m\n\u001b[1;32m   2798\u001b[0m             \u001b[0;32mif\u001b[0m \u001b[0mself\u001b[0m\u001b[0;34m.\u001b[0m\u001b[0mcolumns\u001b[0m\u001b[0;34m.\u001b[0m\u001b[0mnlevels\u001b[0m \u001b[0;34m>\u001b[0m \u001b[0;36m1\u001b[0m\u001b[0;34m:\u001b[0m\u001b[0;34m\u001b[0m\u001b[0m\n\u001b[1;32m   2799\u001b[0m                 \u001b[0;32mreturn\u001b[0m \u001b[0mself\u001b[0m\u001b[0;34m.\u001b[0m\u001b[0m_getitem_multilevel\u001b[0m\u001b[0;34m(\u001b[0m\u001b[0mkey\u001b[0m\u001b[0;34m)\u001b[0m\u001b[0;34m\u001b[0m\u001b[0m\n\u001b[0;32m-> 2800\u001b[0;31m             \u001b[0mindexer\u001b[0m \u001b[0;34m=\u001b[0m \u001b[0mself\u001b[0m\u001b[0;34m.\u001b[0m\u001b[0mcolumns\u001b[0m\u001b[0;34m.\u001b[0m\u001b[0mget_loc\u001b[0m\u001b[0;34m(\u001b[0m\u001b[0mkey\u001b[0m\u001b[0;34m)\u001b[0m\u001b[0;34m\u001b[0m\u001b[0m\n\u001b[0m\u001b[1;32m   2801\u001b[0m             \u001b[0;32mif\u001b[0m \u001b[0mis_integer\u001b[0m\u001b[0;34m(\u001b[0m\u001b[0mindexer\u001b[0m\u001b[0;34m)\u001b[0m\u001b[0;34m:\u001b[0m\u001b[0;34m\u001b[0m\u001b[0m\n\u001b[1;32m   2802\u001b[0m                 \u001b[0mindexer\u001b[0m \u001b[0;34m=\u001b[0m \u001b[0;34m[\u001b[0m\u001b[0mindexer\u001b[0m\u001b[0;34m]\u001b[0m\u001b[0;34m\u001b[0m\u001b[0m\n",
      "\u001b[0;32m~/lib/python3.6/site-packages/pandas/core/indexes/base.py\u001b[0m in \u001b[0;36mget_loc\u001b[0;34m(self, key, method, tolerance)\u001b[0m\n\u001b[1;32m   2646\u001b[0m                 \u001b[0;32mreturn\u001b[0m \u001b[0mself\u001b[0m\u001b[0;34m.\u001b[0m\u001b[0m_engine\u001b[0m\u001b[0;34m.\u001b[0m\u001b[0mget_loc\u001b[0m\u001b[0;34m(\u001b[0m\u001b[0mkey\u001b[0m\u001b[0;34m)\u001b[0m\u001b[0;34m\u001b[0m\u001b[0m\n\u001b[1;32m   2647\u001b[0m             \u001b[0;32mexcept\u001b[0m \u001b[0mKeyError\u001b[0m\u001b[0;34m:\u001b[0m\u001b[0;34m\u001b[0m\u001b[0m\n\u001b[0;32m-> 2648\u001b[0;31m                 \u001b[0;32mreturn\u001b[0m \u001b[0mself\u001b[0m\u001b[0;34m.\u001b[0m\u001b[0m_engine\u001b[0m\u001b[0;34m.\u001b[0m\u001b[0mget_loc\u001b[0m\u001b[0;34m(\u001b[0m\u001b[0mself\u001b[0m\u001b[0;34m.\u001b[0m\u001b[0m_maybe_cast_indexer\u001b[0m\u001b[0;34m(\u001b[0m\u001b[0mkey\u001b[0m\u001b[0;34m)\u001b[0m\u001b[0;34m)\u001b[0m\u001b[0;34m\u001b[0m\u001b[0m\n\u001b[0m\u001b[1;32m   2649\u001b[0m         \u001b[0mindexer\u001b[0m \u001b[0;34m=\u001b[0m \u001b[0mself\u001b[0m\u001b[0;34m.\u001b[0m\u001b[0mget_indexer\u001b[0m\u001b[0;34m(\u001b[0m\u001b[0;34m[\u001b[0m\u001b[0mkey\u001b[0m\u001b[0;34m]\u001b[0m\u001b[0;34m,\u001b[0m \u001b[0mmethod\u001b[0m\u001b[0;34m=\u001b[0m\u001b[0mmethod\u001b[0m\u001b[0;34m,\u001b[0m \u001b[0mtolerance\u001b[0m\u001b[0;34m=\u001b[0m\u001b[0mtolerance\u001b[0m\u001b[0;34m)\u001b[0m\u001b[0;34m\u001b[0m\u001b[0m\n\u001b[1;32m   2650\u001b[0m         \u001b[0;32mif\u001b[0m \u001b[0mindexer\u001b[0m\u001b[0;34m.\u001b[0m\u001b[0mndim\u001b[0m \u001b[0;34m>\u001b[0m \u001b[0;36m1\u001b[0m \u001b[0;32mor\u001b[0m \u001b[0mindexer\u001b[0m\u001b[0;34m.\u001b[0m\u001b[0msize\u001b[0m \u001b[0;34m>\u001b[0m \u001b[0;36m1\u001b[0m\u001b[0;34m:\u001b[0m\u001b[0;34m\u001b[0m\u001b[0m\n",
      "\u001b[0;32mpandas/_libs/index.pyx\u001b[0m in \u001b[0;36mpandas._libs.index.IndexEngine.get_loc\u001b[0;34m()\u001b[0m\n",
      "\u001b[0;32mpandas/_libs/index.pyx\u001b[0m in \u001b[0;36mpandas._libs.index.IndexEngine.get_loc\u001b[0;34m()\u001b[0m\n",
      "\u001b[0;32mpandas/_libs/hashtable_class_helper.pxi\u001b[0m in \u001b[0;36mpandas._libs.hashtable.PyObjectHashTable.get_item\u001b[0;34m()\u001b[0m\n",
      "\u001b[0;32mpandas/_libs/hashtable_class_helper.pxi\u001b[0m in \u001b[0;36mpandas._libs.hashtable.PyObjectHashTable.get_item\u001b[0;34m()\u001b[0m\n",
      "\u001b[0;31mKeyError\u001b[0m: 'height'"
     ]
    }
   ],
   "source": [
    "df.loc[df['gender'] == 'male']['height'].mean()"
   ]
  },
  {
   "cell_type": "markdown",
   "id": "498fa2c9",
   "metadata": {},
   "source": [
    "# DYNAMIC FILTERING works - THIS IS MUCH BETTER!\n",
    "\n",
    "attempt at dynamic filtering..."
   ]
  },
  {
   "cell_type": "code",
   "execution_count": 28,
   "id": "bd5de686",
   "metadata": {},
   "outputs": [],
   "source": [
    "# use the above to create a GENDER -> EVENT df\n",
    "dff = df.copy()"
   ]
  },
  {
   "cell_type": "code",
   "execution_count": 29,
   "id": "dab62c52",
   "metadata": {},
   "outputs": [
    {
     "data": {
      "text/plain": [
       "ballet           107\n",
       "weight lifter     48\n",
       "Name: event, dtype: int64"
      ]
     },
     "execution_count": 29,
     "metadata": {},
     "output_type": "execute_result"
    }
   ],
   "source": [
    "dff.loc[dff['gender'] == 'female']['event'].value_counts()"
   ]
  },
  {
   "cell_type": "code",
   "execution_count": 30,
   "id": "0ea3c433",
   "metadata": {},
   "outputs": [
    {
     "data": {
      "text/plain": [
       "weight lifter    98\n",
       "ballet           47\n",
       "Name: event, dtype: int64"
      ]
     },
     "execution_count": 30,
     "metadata": {},
     "output_type": "execute_result"
    }
   ],
   "source": [
    "dff.loc[dff['gender'] == 'male']['event'].value_counts()"
   ]
  },
  {
   "cell_type": "code",
   "execution_count": 31,
   "id": "546a5bdd",
   "metadata": {},
   "outputs": [
    {
     "data": {
      "text/html": [
       "<div>\n",
       "<style scoped>\n",
       "    .dataframe tbody tr th:only-of-type {\n",
       "        vertical-align: middle;\n",
       "    }\n",
       "\n",
       "    .dataframe tbody tr th {\n",
       "        vertical-align: top;\n",
       "    }\n",
       "\n",
       "    .dataframe thead th {\n",
       "        text-align: right;\n",
       "    }\n",
       "</style>\n",
       "<table border=\"1\" class=\"dataframe\">\n",
       "  <thead>\n",
       "    <tr style=\"text-align: right;\">\n",
       "      <th></th>\n",
       "      <th>gender</th>\n",
       "      <th>event</th>\n",
       "    </tr>\n",
       "  </thead>\n",
       "  <tbody>\n",
       "    <tr>\n",
       "      <th>0</th>\n",
       "      <td>male</td>\n",
       "      <td>weight lifter</td>\n",
       "    </tr>\n",
       "    <tr>\n",
       "      <th>1</th>\n",
       "      <td>male</td>\n",
       "      <td>weight lifter</td>\n",
       "    </tr>\n",
       "    <tr>\n",
       "      <th>2</th>\n",
       "      <td>female</td>\n",
       "      <td>weight lifter</td>\n",
       "    </tr>\n",
       "    <tr>\n",
       "      <th>3</th>\n",
       "      <td>male</td>\n",
       "      <td>weight lifter</td>\n",
       "    </tr>\n",
       "    <tr>\n",
       "      <th>4</th>\n",
       "      <td>female</td>\n",
       "      <td>ballet</td>\n",
       "    </tr>\n",
       "  </tbody>\n",
       "</table>\n",
       "</div>"
      ],
      "text/plain": [
       "   gender          event\n",
       "0    male  weight lifter\n",
       "1    male  weight lifter\n",
       "2  female  weight lifter\n",
       "3    male  weight lifter\n",
       "4  female         ballet"
      ]
     },
     "execution_count": 31,
     "metadata": {},
     "output_type": "execute_result"
    }
   ],
   "source": [
    "dff.head()"
   ]
  },
  {
   "cell_type": "markdown",
   "id": "a8f199d3",
   "metadata": {},
   "source": [
    "GENDER -> EVENT --> weight\n",
    "\n",
    "['gender', 'event', params]"
   ]
  },
  {
   "cell_type": "code",
   "execution_count": 131,
   "id": "d943a93f",
   "metadata": {},
   "outputs": [],
   "source": [
    "def get_cat_corr_dfs(df, params, f_name, is_num):\n",
    "    dfs = []\n",
    "    for row in params:\n",
    "        orig_df = df.copy()\n",
    "        for cat in row[0]:\n",
    "            orig_df = orig_df.loc[orig_df[cat[0]] == cat[1]]\n",
    "        if is_num:\n",
    "            orig_df[f_name] = np.random.normal(row[1][0], row[1][1], len(orig_df))\n",
    "        else:\n",
    "            orig_df[f_name] = np.array(np.random.choice(row[1][0], len(orig_df), p=row[1][1]))\n",
    "        dfs.append(orig_df)\n",
    "    return dfs"
   ]
  },
  {
   "cell_type": "code",
   "execution_count": 87,
   "id": "9f9eb73a",
   "metadata": {},
   "outputs": [],
   "source": [
    "# CAT -> NUM\n",
    "new_f_name = 'height'\n",
    "params = [\n",
    "    [[['gender', 'male']], [1.85, 0.2]],\n",
    "    [[['gender', 'female']], [1.65, 0.2]]\n",
    "]\n",
    "is_numerical = True"
   ]
  },
  {
   "cell_type": "code",
   "execution_count": 97,
   "id": "f202c363",
   "metadata": {},
   "outputs": [],
   "source": [
    "# CAT CAT -> NUM\n",
    "new_f_name = 'weight'\n",
    "params = [\n",
    "    [[['gender', 'male'], ['event', 'weight lifter']], [103, 10]],\n",
    "    [[['gender', 'female'], ['event', 'weight lifter']], [63, 8]],\n",
    "    [[['gender', 'male'], ['event', 'ballet']], [68, 10]],\n",
    "    [[['gender', 'female'], ['event', 'ballet']], [43, 2]],\n",
    "]\n",
    "is_numerical = True"
   ]
  },
  {
   "cell_type": "code",
   "execution_count": 115,
   "id": "4d730733",
   "metadata": {},
   "outputs": [],
   "source": [
    "# CAT -> CAT\n",
    "new_f_name = 'shoe'\n",
    "params = [\n",
    "    [[['gender', 'male']], [['large', 'small'], [0.7, 0.3]]],\n",
    "    [[['gender', 'female']], [['large', 'small'], [0.3, 0.7]]],\n",
    "]\n",
    "is_numerical = False"
   ]
  },
  {
   "cell_type": "code",
   "execution_count": 125,
   "id": "4bbbd742",
   "metadata": {},
   "outputs": [],
   "source": [
    "# CAT CAT -> CAT\n",
    "new_f_name = 'laces'\n",
    "params = [\n",
    "    [[['gender', 'male'], ['shoe', 'large']], [['long', 'short'], [0.9, 0.1]]],\n",
    "    [[['gender', 'male'], ['shoe', 'small']], [['long', 'short'], [0.6, 0.4]]],\n",
    "    [[['gender', 'female'], ['shoe', 'large']], [['long', 'short'], [0.5, 0.5]]],\n",
    "    [[['gender', 'female'], ['shoe', 'small']], [['long', 'short'], [0.1, 0.9]]],\n",
    "]\n",
    "is_numerical = False"
   ]
  },
  {
   "cell_type": "code",
   "execution_count": 126,
   "id": "c881be45",
   "metadata": {},
   "outputs": [],
   "source": [
    "dfs = get_cat_corr_dfs(dff, params, new_f_name, is_numerical)\n",
    "dff = pd.concat(dfs).sort_index()"
   ]
  },
  {
   "cell_type": "code",
   "execution_count": 127,
   "id": "60e1bce3",
   "metadata": {},
   "outputs": [
    {
     "data": {
      "text/html": [
       "<div>\n",
       "<style scoped>\n",
       "    .dataframe tbody tr th:only-of-type {\n",
       "        vertical-align: middle;\n",
       "    }\n",
       "\n",
       "    .dataframe tbody tr th {\n",
       "        vertical-align: top;\n",
       "    }\n",
       "\n",
       "    .dataframe thead th {\n",
       "        text-align: right;\n",
       "    }\n",
       "</style>\n",
       "<table border=\"1\" class=\"dataframe\">\n",
       "  <thead>\n",
       "    <tr style=\"text-align: right;\">\n",
       "      <th></th>\n",
       "      <th>gender</th>\n",
       "      <th>event</th>\n",
       "      <th>height</th>\n",
       "      <th>weight</th>\n",
       "      <th>shoe</th>\n",
       "      <th>laces</th>\n",
       "    </tr>\n",
       "  </thead>\n",
       "  <tbody>\n",
       "    <tr>\n",
       "      <th>0</th>\n",
       "      <td>male</td>\n",
       "      <td>weight lifter</td>\n",
       "      <td>1.745824</td>\n",
       "      <td>100.907938</td>\n",
       "      <td>large</td>\n",
       "      <td>short</td>\n",
       "    </tr>\n",
       "    <tr>\n",
       "      <th>1</th>\n",
       "      <td>female</td>\n",
       "      <td>ballet</td>\n",
       "      <td>1.805985</td>\n",
       "      <td>42.971301</td>\n",
       "      <td>small</td>\n",
       "      <td>short</td>\n",
       "    </tr>\n",
       "    <tr>\n",
       "      <th>2</th>\n",
       "      <td>male</td>\n",
       "      <td>weight lifter</td>\n",
       "      <td>2.069955</td>\n",
       "      <td>102.081326</td>\n",
       "      <td>large</td>\n",
       "      <td>long</td>\n",
       "    </tr>\n",
       "    <tr>\n",
       "      <th>3</th>\n",
       "      <td>female</td>\n",
       "      <td>ballet</td>\n",
       "      <td>1.255179</td>\n",
       "      <td>44.638896</td>\n",
       "      <td>small</td>\n",
       "      <td>short</td>\n",
       "    </tr>\n",
       "    <tr>\n",
       "      <th>4</th>\n",
       "      <td>female</td>\n",
       "      <td>ballet</td>\n",
       "      <td>1.453761</td>\n",
       "      <td>44.850255</td>\n",
       "      <td>small</td>\n",
       "      <td>short</td>\n",
       "    </tr>\n",
       "  </tbody>\n",
       "</table>\n",
       "</div>"
      ],
      "text/plain": [
       "   gender          event    height      weight   shoe  laces\n",
       "0    male  weight lifter  1.745824  100.907938  large  short\n",
       "1  female         ballet  1.805985   42.971301  small  short\n",
       "2    male  weight lifter  2.069955  102.081326  large   long\n",
       "3  female         ballet  1.255179   44.638896  small  short\n",
       "4  female         ballet  1.453761   44.850255  small  short"
      ]
     },
     "execution_count": 127,
     "metadata": {},
     "output_type": "execute_result"
    }
   ],
   "source": [
    "dff.head()"
   ]
  },
  {
   "cell_type": "code",
   "execution_count": 37,
   "id": "d041c646",
   "metadata": {},
   "outputs": [],
   "source": [
    "# parsed from browser:\n",
    "cat_fs = ['gender', 'event']\n",
    "num_params = [[30, 5]\n",
    "is_numerical = True\n",
    "\n",
    "# generate params list of lists\n",
    "def parse_browser_get_params(df, catfs, params, is_num):\n",
    "    p = []\n",
    "    rows = []\n",
    "    for cat_f in catfs:\n",
    "        row = []\n",
    "        for cat in df[cat_f].unique():\n",
    "            row.append([cat_f, cat])\n",
    "        rows.append(row)\n",
    "    if len(rows) == 3:\n",
    "        for i in rows[0]:\n",
    "            for j in rows[1]:\n",
    "                for k in rows[2]:\n",
    "                    p.append([i, j, k])\n",
    "                    \n",
    "\n",
    "    elif len(rows) == 2:\n",
    "        for i in rows[0]:\n",
    "            for j in rows[1]:\n",
    "                p.append([i, j])\n",
    "    p\n",
    "    return p"
   ]
  },
  {
   "cell_type": "code",
   "execution_count": 38,
   "id": "4b529a14",
   "metadata": {},
   "outputs": [],
   "source": [
    "temp = parse_browser_get_params(dff, cat_fs, num_params, is_numerical)"
   ]
  },
  {
   "cell_type": "code",
   "execution_count": 39,
   "id": "05f9b800",
   "metadata": {},
   "outputs": [
    {
     "data": {
      "text/plain": [
       "[[['gender', 'male'], ['event', 'weight lifter']],\n",
       " [['gender', 'male'], ['event', 'ballet']],\n",
       " [['gender', 'female'], ['event', 'weight lifter']],\n",
       " [['gender', 'female'], ['event', 'ballet']]]"
      ]
     },
     "execution_count": 39,
     "metadata": {},
     "output_type": "execute_result"
    }
   ],
   "source": [
    "temp"
   ]
  },
  {
   "cell_type": "code",
   "execution_count": 36,
   "id": "7ffc01dc",
   "metadata": {},
   "outputs": [
    {
     "data": {
      "text/plain": [
       "[[['gender', 'male'], ['event', 'weight lifter']],\n",
       " [['gender', 'male'], ['event', 'ballet']],\n",
       " [['gender', 'female'], ['event', 'weight lifter']],\n",
       " [['gender', 'female'], ['event', 'ballet']]]"
      ]
     },
     "execution_count": 36,
     "metadata": {},
     "output_type": "execute_result"
    }
   ],
   "source": [
    "p = []\n",
    "if len(temp) == 3:\n",
    "    for i in temp[0]:\n",
    "        for j in temp[1]:\n",
    "            for k in temp[2]:\n",
    "                p.append([i, j, k])\n",
    "\n",
    "elif len(temp) == 2:\n",
    "    for i in temp[0]:\n",
    "        for j in temp[1]:\n",
    "            p.append([i, j])\n",
    "p"
   ]
  },
  {
   "cell_type": "code",
   "execution_count": 198,
   "id": "9e0caede",
   "metadata": {},
   "outputs": [
    {
     "name": "stdout",
     "output_type": "stream",
     "text": [
      "['gender', 'male']\n",
      "[['gender', 'male'], ['gender', 'female']]\n",
      "['gender', 'female']\n",
      "[['gender', 'male'], ['gender', 'female']]\n",
      "['event', 'weight lifter']\n",
      "[['event', 'weight lifter'], ['event', 'ballet']]\n",
      "['event', 'ballet']\n",
      "[['event', 'weight lifter'], ['event', 'ballet']]\n",
      "[['gender', 'male'], ['gender', 'female']]\n",
      "[[['gender', 'male'], ['gender', 'female']], [['event', 'weight lifter'], ['event', 'ballet']], [...]]\n",
      "[['event', 'weight lifter'], ['event', 'ballet']]\n",
      "[[['gender', 'male'], ['gender', 'female']], [['event', 'weight lifter'], ['event', 'ballet']], [...]]\n",
      "[[['gender', 'male'], ['gender', 'female']], [['event', 'weight lifter'], ['event', 'ballet']], [...]]\n",
      "[[['gender', 'male'], ['gender', 'female']], [['event', 'weight lifter'], ['event', 'ballet']], [...]]\n"
     ]
    }
   ],
   "source": [
    "end = []\n",
    "for x in temp:\n",
    "    for y in x:\n",
    "        print(y)\n",
    "        print(x)"
   ]
  },
  {
   "cell_type": "code",
   "execution_count": 161,
   "id": "489415e2",
   "metadata": {},
   "outputs": [
    {
     "name": "stdout",
     "output_type": "stream",
     "text": [
      "[['gender', 'male'], ['gender', 'female']]\n",
      "['gender', 'male']\n",
      "['gender', 'female']\n",
      "[['event', 'weight lifter'], ['event', 'ballet']]\n",
      "['event', 'weight lifter']\n",
      "['event', 'ballet']\n"
     ]
    }
   ],
   "source": [
    "z = []\n",
    "for r in temp:\n",
    "    print(r)\n",
    "    for s in r:\n",
    "        print(s)"
   ]
  },
  {
   "cell_type": "code",
   "execution_count": 163,
   "id": "6279ef6e",
   "metadata": {},
   "outputs": [],
   "source": [
    "a = np.array(temp)"
   ]
  },
  {
   "cell_type": "code",
   "execution_count": 172,
   "id": "fb61d8ed",
   "metadata": {},
   "outputs": [
    {
     "data": {
      "text/plain": [
       "array([[['gender', 'male'],\n",
       "        ['gender', 'female']],\n",
       "\n",
       "       [['event', 'weight lifter'],\n",
       "        ['event', 'ballet']]], dtype='<U13')"
      ]
     },
     "execution_count": 172,
     "metadata": {},
     "output_type": "execute_result"
    }
   ],
   "source": [
    "a.reshape(2, 2, 2)"
   ]
  },
  {
   "cell_type": "code",
   "execution_count": 184,
   "id": "bf09ddc7",
   "metadata": {},
   "outputs": [
    {
     "data": {
      "text/plain": [
       "array(['gender', 'male', 'gender', 'female', 'event', 'weight lifter',\n",
       "       'event', 'ballet', 'gender', 'event', 'gender', 'event', 'male',\n",
       "       'weight lifter', 'female', 'ballet'], dtype='<U13')"
      ]
     },
     "execution_count": 184,
     "metadata": {},
     "output_type": "execute_result"
    }
   ],
   "source": [
    "np.append(a, a.T)   "
   ]
  },
  {
   "cell_type": "code",
   "execution_count": 186,
   "id": "1ecfb29a",
   "metadata": {},
   "outputs": [
    {
     "data": {
      "text/plain": [
       "array([[['gender', 'male'],\n",
       "        ['gender', 'female']],\n",
       "\n",
       "       [['event', 'weight lifter'],\n",
       "        ['event', 'ballet']]], dtype='<U13')"
      ]
     },
     "execution_count": 186,
     "metadata": {},
     "output_type": "execute_result"
    }
   ],
   "source": [
    "a"
   ]
  },
  {
   "cell_type": "code",
   "execution_count": null,
   "id": "fe979991",
   "metadata": {},
   "outputs": [],
   "source": [
    "\n",
    "dff.groupby(['gender', 'shoe', 'laces'], as_index=False)['weight'].count()"
   ]
  },
  {
   "cell_type": "code",
   "execution_count": 124,
   "id": "d2b957ac",
   "metadata": {},
   "outputs": [
    {
     "data": {
      "text/html": [
       "<div>\n",
       "<style scoped>\n",
       "    .dataframe tbody tr th:only-of-type {\n",
       "        vertical-align: middle;\n",
       "    }\n",
       "\n",
       "    .dataframe tbody tr th {\n",
       "        vertical-align: top;\n",
       "    }\n",
       "\n",
       "    .dataframe thead th {\n",
       "        text-align: right;\n",
       "    }\n",
       "</style>\n",
       "<table border=\"1\" class=\"dataframe\">\n",
       "  <thead>\n",
       "    <tr style=\"text-align: right;\">\n",
       "      <th></th>\n",
       "      <th>gender</th>\n",
       "      <th>shoe</th>\n",
       "      <th>weight</th>\n",
       "    </tr>\n",
       "  </thead>\n",
       "  <tbody>\n",
       "    <tr>\n",
       "      <th>0</th>\n",
       "      <td>female</td>\n",
       "      <td>large</td>\n",
       "      <td>49</td>\n",
       "    </tr>\n",
       "    <tr>\n",
       "      <th>1</th>\n",
       "      <td>female</td>\n",
       "      <td>small</td>\n",
       "      <td>127</td>\n",
       "    </tr>\n",
       "    <tr>\n",
       "      <th>2</th>\n",
       "      <td>male</td>\n",
       "      <td>large</td>\n",
       "      <td>89</td>\n",
       "    </tr>\n",
       "    <tr>\n",
       "      <th>3</th>\n",
       "      <td>male</td>\n",
       "      <td>small</td>\n",
       "      <td>35</td>\n",
       "    </tr>\n",
       "  </tbody>\n",
       "</table>\n",
       "</div>"
      ],
      "text/plain": [
       "   gender   shoe  weight\n",
       "0  female  large      49\n",
       "1  female  small     127\n",
       "2    male  large      89\n",
       "3    male  small      35"
      ]
     },
     "execution_count": 124,
     "metadata": {},
     "output_type": "execute_result"
    }
   ],
   "source": [
    "dff.groupby(['gender', 'shoe'], as_index=False)['weight'].count()"
   ]
  },
  {
   "cell_type": "code",
   "execution_count": 105,
   "id": "f905f505",
   "metadata": {},
   "outputs": [
    {
     "data": {
      "text/html": [
       "<div>\n",
       "<style scoped>\n",
       "    .dataframe tbody tr th:only-of-type {\n",
       "        vertical-align: middle;\n",
       "    }\n",
       "\n",
       "    .dataframe tbody tr th {\n",
       "        vertical-align: top;\n",
       "    }\n",
       "\n",
       "    .dataframe thead th {\n",
       "        text-align: right;\n",
       "    }\n",
       "</style>\n",
       "<table border=\"1\" class=\"dataframe\">\n",
       "  <thead>\n",
       "    <tr style=\"text-align: right;\">\n",
       "      <th></th>\n",
       "      <th>gender</th>\n",
       "      <th>event</th>\n",
       "      <th>height</th>\n",
       "      <th>weight</th>\n",
       "    </tr>\n",
       "  </thead>\n",
       "  <tbody>\n",
       "    <tr>\n",
       "      <th>0</th>\n",
       "      <td>male</td>\n",
       "      <td>weight lifter</td>\n",
       "      <td>1.745824</td>\n",
       "      <td>100.907938</td>\n",
       "    </tr>\n",
       "    <tr>\n",
       "      <th>1</th>\n",
       "      <td>female</td>\n",
       "      <td>ballet</td>\n",
       "      <td>1.805985</td>\n",
       "      <td>42.971301</td>\n",
       "    </tr>\n",
       "    <tr>\n",
       "      <th>2</th>\n",
       "      <td>male</td>\n",
       "      <td>weight lifter</td>\n",
       "      <td>2.069955</td>\n",
       "      <td>102.081326</td>\n",
       "    </tr>\n",
       "    <tr>\n",
       "      <th>3</th>\n",
       "      <td>female</td>\n",
       "      <td>ballet</td>\n",
       "      <td>1.255179</td>\n",
       "      <td>44.638896</td>\n",
       "    </tr>\n",
       "    <tr>\n",
       "      <th>4</th>\n",
       "      <td>female</td>\n",
       "      <td>ballet</td>\n",
       "      <td>1.453761</td>\n",
       "      <td>44.850255</td>\n",
       "    </tr>\n",
       "    <tr>\n",
       "      <th>5</th>\n",
       "      <td>male</td>\n",
       "      <td>weight lifter</td>\n",
       "      <td>2.059757</td>\n",
       "      <td>103.740412</td>\n",
       "    </tr>\n",
       "    <tr>\n",
       "      <th>6</th>\n",
       "      <td>male</td>\n",
       "      <td>ballet</td>\n",
       "      <td>1.760813</td>\n",
       "      <td>71.978959</td>\n",
       "    </tr>\n",
       "    <tr>\n",
       "      <th>7</th>\n",
       "      <td>female</td>\n",
       "      <td>weight lifter</td>\n",
       "      <td>1.951114</td>\n",
       "      <td>66.213639</td>\n",
       "    </tr>\n",
       "    <tr>\n",
       "      <th>8</th>\n",
       "      <td>male</td>\n",
       "      <td>weight lifter</td>\n",
       "      <td>1.833990</td>\n",
       "      <td>94.994739</td>\n",
       "    </tr>\n",
       "    <tr>\n",
       "      <th>9</th>\n",
       "      <td>female</td>\n",
       "      <td>weight lifter</td>\n",
       "      <td>1.940666</td>\n",
       "      <td>58.848012</td>\n",
       "    </tr>\n",
       "    <tr>\n",
       "      <th>10</th>\n",
       "      <td>female</td>\n",
       "      <td>weight lifter</td>\n",
       "      <td>1.565926</td>\n",
       "      <td>68.859884</td>\n",
       "    </tr>\n",
       "    <tr>\n",
       "      <th>11</th>\n",
       "      <td>female</td>\n",
       "      <td>weight lifter</td>\n",
       "      <td>1.388332</td>\n",
       "      <td>59.994100</td>\n",
       "    </tr>\n",
       "    <tr>\n",
       "      <th>12</th>\n",
       "      <td>male</td>\n",
       "      <td>ballet</td>\n",
       "      <td>1.606112</td>\n",
       "      <td>55.936529</td>\n",
       "    </tr>\n",
       "    <tr>\n",
       "      <th>13</th>\n",
       "      <td>female</td>\n",
       "      <td>ballet</td>\n",
       "      <td>1.780228</td>\n",
       "      <td>45.757472</td>\n",
       "    </tr>\n",
       "    <tr>\n",
       "      <th>14</th>\n",
       "      <td>female</td>\n",
       "      <td>ballet</td>\n",
       "      <td>1.640043</td>\n",
       "      <td>44.271681</td>\n",
       "    </tr>\n",
       "    <tr>\n",
       "      <th>15</th>\n",
       "      <td>female</td>\n",
       "      <td>weight lifter</td>\n",
       "      <td>1.421676</td>\n",
       "      <td>50.038271</td>\n",
       "    </tr>\n",
       "    <tr>\n",
       "      <th>16</th>\n",
       "      <td>male</td>\n",
       "      <td>ballet</td>\n",
       "      <td>1.743714</td>\n",
       "      <td>77.497116</td>\n",
       "    </tr>\n",
       "    <tr>\n",
       "      <th>17</th>\n",
       "      <td>female</td>\n",
       "      <td>ballet</td>\n",
       "      <td>1.788123</td>\n",
       "      <td>41.461788</td>\n",
       "    </tr>\n",
       "    <tr>\n",
       "      <th>18</th>\n",
       "      <td>female</td>\n",
       "      <td>ballet</td>\n",
       "      <td>1.835787</td>\n",
       "      <td>44.053365</td>\n",
       "    </tr>\n",
       "    <tr>\n",
       "      <th>19</th>\n",
       "      <td>male</td>\n",
       "      <td>ballet</td>\n",
       "      <td>1.969437</td>\n",
       "      <td>68.788777</td>\n",
       "    </tr>\n",
       "  </tbody>\n",
       "</table>\n",
       "</div>"
      ],
      "text/plain": [
       "    gender          event    height      weight\n",
       "0     male  weight lifter  1.745824  100.907938\n",
       "1   female         ballet  1.805985   42.971301\n",
       "2     male  weight lifter  2.069955  102.081326\n",
       "3   female         ballet  1.255179   44.638896\n",
       "4   female         ballet  1.453761   44.850255\n",
       "5     male  weight lifter  2.059757  103.740412\n",
       "6     male         ballet  1.760813   71.978959\n",
       "7   female  weight lifter  1.951114   66.213639\n",
       "8     male  weight lifter  1.833990   94.994739\n",
       "9   female  weight lifter  1.940666   58.848012\n",
       "10  female  weight lifter  1.565926   68.859884\n",
       "11  female  weight lifter  1.388332   59.994100\n",
       "12    male         ballet  1.606112   55.936529\n",
       "13  female         ballet  1.780228   45.757472\n",
       "14  female         ballet  1.640043   44.271681\n",
       "15  female  weight lifter  1.421676   50.038271\n",
       "16    male         ballet  1.743714   77.497116\n",
       "17  female         ballet  1.788123   41.461788\n",
       "18  female         ballet  1.835787   44.053365\n",
       "19    male         ballet  1.969437   68.788777"
      ]
     },
     "execution_count": 105,
     "metadata": {},
     "output_type": "execute_result"
    }
   ],
   "source": [
    "dff.head(20)"
   ]
  },
  {
   "cell_type": "code",
   "execution_count": 68,
   "id": "7306a819",
   "metadata": {},
   "outputs": [
    {
     "ename": "KeyError",
     "evalue": "RangeIndex(start=0, stop=300, step=1)",
     "output_type": "error",
     "traceback": [
      "\u001b[0;31m---------------------------------------------------------------------------\u001b[0m",
      "\u001b[0;31mKeyError\u001b[0m                                  Traceback (most recent call last)",
      "\u001b[0;32m<ipython-input-68-5319c0edcf43>\u001b[0m in \u001b[0;36m<module>\u001b[0;34m\u001b[0m\n\u001b[0;32m----> 1\u001b[0;31m \u001b[0mfinal_df\u001b[0m\u001b[0;34m.\u001b[0m\u001b[0msort_values\u001b[0m\u001b[0;34m(\u001b[0m\u001b[0mdf\u001b[0m\u001b[0;34m.\u001b[0m\u001b[0mindex\u001b[0m\u001b[0;34m)\u001b[0m\u001b[0;34m\u001b[0m\u001b[0m\n\u001b[0m",
      "\u001b[0;32m~/lib/python3.6/site-packages/pandas/core/frame.py\u001b[0m in \u001b[0;36msort_values\u001b[0;34m(self, by, axis, ascending, inplace, kind, na_position, ignore_index)\u001b[0m\n\u001b[1;32m   4925\u001b[0m \u001b[0;34m\u001b[0m\u001b[0m\n\u001b[1;32m   4926\u001b[0m             \u001b[0mby\u001b[0m \u001b[0;34m=\u001b[0m \u001b[0mby\u001b[0m\u001b[0;34m[\u001b[0m\u001b[0;36m0\u001b[0m\u001b[0;34m]\u001b[0m\u001b[0;34m\u001b[0m\u001b[0m\n\u001b[0;32m-> 4927\u001b[0;31m             \u001b[0mk\u001b[0m \u001b[0;34m=\u001b[0m \u001b[0mself\u001b[0m\u001b[0;34m.\u001b[0m\u001b[0m_get_label_or_level_values\u001b[0m\u001b[0;34m(\u001b[0m\u001b[0mby\u001b[0m\u001b[0;34m,\u001b[0m \u001b[0maxis\u001b[0m\u001b[0;34m=\u001b[0m\u001b[0maxis\u001b[0m\u001b[0;34m)\u001b[0m\u001b[0;34m\u001b[0m\u001b[0m\n\u001b[0m\u001b[1;32m   4928\u001b[0m \u001b[0;34m\u001b[0m\u001b[0m\n\u001b[1;32m   4929\u001b[0m             \u001b[0;32mif\u001b[0m \u001b[0misinstance\u001b[0m\u001b[0;34m(\u001b[0m\u001b[0mascending\u001b[0m\u001b[0;34m,\u001b[0m \u001b[0;34m(\u001b[0m\u001b[0mtuple\u001b[0m\u001b[0;34m,\u001b[0m \u001b[0mlist\u001b[0m\u001b[0;34m)\u001b[0m\u001b[0;34m)\u001b[0m\u001b[0;34m:\u001b[0m\u001b[0;34m\u001b[0m\u001b[0m\n",
      "\u001b[0;32m~/lib/python3.6/site-packages/pandas/core/generic.py\u001b[0m in \u001b[0;36m_get_label_or_level_values\u001b[0;34m(self, key, axis)\u001b[0m\n\u001b[1;32m   1690\u001b[0m             \u001b[0mvalues\u001b[0m \u001b[0;34m=\u001b[0m \u001b[0mself\u001b[0m\u001b[0;34m.\u001b[0m\u001b[0maxes\u001b[0m\u001b[0;34m[\u001b[0m\u001b[0maxis\u001b[0m\u001b[0;34m]\u001b[0m\u001b[0;34m.\u001b[0m\u001b[0mget_level_values\u001b[0m\u001b[0;34m(\u001b[0m\u001b[0mkey\u001b[0m\u001b[0;34m)\u001b[0m\u001b[0;34m.\u001b[0m\u001b[0m_values\u001b[0m\u001b[0;34m\u001b[0m\u001b[0m\n\u001b[1;32m   1691\u001b[0m         \u001b[0;32melse\u001b[0m\u001b[0;34m:\u001b[0m\u001b[0;34m\u001b[0m\u001b[0m\n\u001b[0;32m-> 1692\u001b[0;31m             \u001b[0;32mraise\u001b[0m \u001b[0mKeyError\u001b[0m\u001b[0;34m(\u001b[0m\u001b[0mkey\u001b[0m\u001b[0;34m)\u001b[0m\u001b[0;34m\u001b[0m\u001b[0m\n\u001b[0m\u001b[1;32m   1693\u001b[0m \u001b[0;34m\u001b[0m\u001b[0m\n\u001b[1;32m   1694\u001b[0m         \u001b[0;31m# Check for duplicates\u001b[0m\u001b[0;34m\u001b[0m\u001b[0;34m\u001b[0m\u001b[0m\n",
      "\u001b[0;31mKeyError\u001b[0m: RangeIndex(start=0, stop=300, step=1)"
     ]
    }
   ],
   "source": [
    "final_df.sort_values(df.index)"
   ]
  },
  {
   "cell_type": "code",
   "execution_count": 62,
   "id": "64fa8575",
   "metadata": {},
   "outputs": [
    {
     "data": {
      "text/html": [
       "<div>\n",
       "<style scoped>\n",
       "    .dataframe tbody tr th:only-of-type {\n",
       "        vertical-align: middle;\n",
       "    }\n",
       "\n",
       "    .dataframe tbody tr th {\n",
       "        vertical-align: top;\n",
       "    }\n",
       "\n",
       "    .dataframe thead th {\n",
       "        text-align: right;\n",
       "    }\n",
       "</style>\n",
       "<table border=\"1\" class=\"dataframe\">\n",
       "  <thead>\n",
       "    <tr style=\"text-align: right;\">\n",
       "      <th></th>\n",
       "      <th>gender</th>\n",
       "      <th>event</th>\n",
       "      <th>weight</th>\n",
       "    </tr>\n",
       "  </thead>\n",
       "  <tbody>\n",
       "    <tr>\n",
       "      <th>0</th>\n",
       "      <td>male</td>\n",
       "      <td>weight lifter</td>\n",
       "      <td>108.162090</td>\n",
       "    </tr>\n",
       "    <tr>\n",
       "      <th>2</th>\n",
       "      <td>male</td>\n",
       "      <td>weight lifter</td>\n",
       "      <td>107.240882</td>\n",
       "    </tr>\n",
       "    <tr>\n",
       "      <th>5</th>\n",
       "      <td>male</td>\n",
       "      <td>weight lifter</td>\n",
       "      <td>107.295759</td>\n",
       "    </tr>\n",
       "    <tr>\n",
       "      <th>8</th>\n",
       "      <td>male</td>\n",
       "      <td>weight lifter</td>\n",
       "      <td>102.933461</td>\n",
       "    </tr>\n",
       "    <tr>\n",
       "      <th>21</th>\n",
       "      <td>male</td>\n",
       "      <td>weight lifter</td>\n",
       "      <td>123.287670</td>\n",
       "    </tr>\n",
       "    <tr>\n",
       "      <th>...</th>\n",
       "      <td>...</td>\n",
       "      <td>...</td>\n",
       "      <td>...</td>\n",
       "    </tr>\n",
       "    <tr>\n",
       "      <th>288</th>\n",
       "      <td>female</td>\n",
       "      <td>ballet</td>\n",
       "      <td>43.962601</td>\n",
       "    </tr>\n",
       "    <tr>\n",
       "      <th>292</th>\n",
       "      <td>female</td>\n",
       "      <td>ballet</td>\n",
       "      <td>44.611775</td>\n",
       "    </tr>\n",
       "    <tr>\n",
       "      <th>293</th>\n",
       "      <td>female</td>\n",
       "      <td>ballet</td>\n",
       "      <td>40.768605</td>\n",
       "    </tr>\n",
       "    <tr>\n",
       "      <th>294</th>\n",
       "      <td>female</td>\n",
       "      <td>ballet</td>\n",
       "      <td>40.607134</td>\n",
       "    </tr>\n",
       "    <tr>\n",
       "      <th>297</th>\n",
       "      <td>female</td>\n",
       "      <td>ballet</td>\n",
       "      <td>39.657502</td>\n",
       "    </tr>\n",
       "  </tbody>\n",
       "</table>\n",
       "<p>300 rows × 3 columns</p>\n",
       "</div>"
      ],
      "text/plain": [
       "     gender          event      weight\n",
       "0      male  weight lifter  108.162090\n",
       "2      male  weight lifter  107.240882\n",
       "5      male  weight lifter  107.295759\n",
       "8      male  weight lifter  102.933461\n",
       "21     male  weight lifter  123.287670\n",
       "..      ...            ...         ...\n",
       "288  female         ballet   43.962601\n",
       "292  female         ballet   44.611775\n",
       "293  female         ballet   40.768605\n",
       "294  female         ballet   40.607134\n",
       "297  female         ballet   39.657502\n",
       "\n",
       "[300 rows x 3 columns]"
      ]
     },
     "execution_count": 62,
     "metadata": {},
     "output_type": "execute_result"
    }
   ],
   "source": [
    "pd.concat(dfs)"
   ]
  },
  {
   "cell_type": "code",
   "execution_count": 34,
   "id": "c05247b2",
   "metadata": {},
   "outputs": [],
   "source": [
    "# dynamic filter on mult cats then num\n",
    "new_cats = {'male': {   'weight lifting': {'cats': np.nan,\n",
    "                                  'prob': [80, 5],\n",
    "                                  'size': get_cat_feat_counts(df,\n",
    "                                                              [['gender', 'male'],\n",
    "                                                              ['event', 'weight lifter']])\n",
    "                                                                   },\n",
    "                        'ballet': {'cats': np.nan,\n",
    "                                   'prob': [50, 5],\n",
    "                                   'size': get_cat_feat_counts(df, [['gender', 'male'],\n",
    "                                                                   ['event', 'ballet']])\n",
    "                                                                    }\n",
    "                    },\n",
    "            'female': {   'weight lifting': {'cats': np.nan,\n",
    "                                  'prob': [50, 1],\n",
    "                                  'size': get_cat_feat_counts(df, [['gender', 'female'],\n",
    "                                                                   ['event', 'weight lifter']])\n",
    "                                                                   },\n",
    "                        'ballet': {'cats': np.nan,\n",
    "                                   'prob': [20, 1],\n",
    "                                   'size': get_cat_feat_counts(df, [['gender', 'female'],\n",
    "                                                                   ['event', 'ballet']])}\n",
    "                    },\n",
    "           }\n",
    "            "
   ]
  },
  {
   "cell_type": "code",
   "execution_count": 35,
   "id": "4d118126",
   "metadata": {},
   "outputs": [
    {
     "data": {
      "text/plain": [
       "{'male': {'weight lifting': {'cats': nan, 'prob': [80, 5], 'size': 85},\n",
       "  'ballet': {'cats': nan, 'prob': [50, 5], 'size': 39}},\n",
       " 'female': {'weight lifting': {'cats': nan, 'prob': [50, 1], 'size': 59},\n",
       "  'ballet': {'cats': nan, 'prob': [20, 1], 'size': 117}}}"
      ]
     },
     "execution_count": 35,
     "metadata": {},
     "output_type": "execute_result"
    }
   ],
   "source": [
    "new_cats"
   ]
  },
  {
   "cell_type": "code",
   "execution_count": null,
   "id": "e87a43aa",
   "metadata": {},
   "outputs": [],
   "source": [
    "def add_corr_cat_feature(df, orig_f, new_f_name, new_cats, is_cat, final_columns):  \n",
    "    temp_df = df.copy()\n",
    "    temp_df = temp_df[[orig_f]]\n",
    "\n",
    "    df['index'] = df.index\n",
    "    temp_df['index'] = temp_df.index\n",
    "\n",
    "    temp_df[new_f_name] = np.nan if is_cat else 0\n",
    "    df[new_f_name] = np.nan if is_cat else 0\n",
    "    \n",
    "    for cat in temp_df[orig_f].unique():\n",
    "        sub_df = temp_df.loc[temp_df[orig_f] == cat]\n",
    "        sub_dict = new_cats[cat]\n",
    "        if is_cat:\n",
    "            sub_df[new_f_name] = np.array(np.random.choice(sub_dict['cats'], sub_dict['size'], p=sub_dict['prob']))\n",
    "        else:\n",
    "            sub_df[new_f_name] = np.random.normal(sub_dict['prob'][0], sub_dict['prob'][1], sub_dict['size'])\n",
    "            \n",
    "        temp_df = temp_df.merge(sub_df, on=[orig_f, 'index'], how='left')\n",
    "        l_suff = new_f_name + '_x'\n",
    "        r_suff = new_f_name + '_y'\n",
    "        if is_cat:\n",
    "            temp_df[new_f_name] = temp_df[[l_suff, r_suff]].apply(lambda x: ''.join(x.dropna()), axis=1)\n",
    "        else:\n",
    "            temp_df[new_f_name] = (temp_df[[l_suff, r_suff]]\n",
    "                                   .fillna(0)\n",
    "                                   .apply(lambda x: x[l_suff] + x[r_suff], axis=1))   \n",
    "        temp_df = temp_df[[orig_f, new_f_name, 'index']]\n",
    "        df = df.merge(temp_df, on=[orig_f, 'index'], how='left')\n",
    "        l_suff = new_f_name + '_x'\n",
    "        r_suff = new_f_name + '_y'\n",
    "        df[new_f_name] = df[[l_suff, r_suff]].apply(combine_rows, axis=1)\n",
    "        df = df[final_columns]\n",
    "    df = (df.drop('index',axis=1)\n",
    "          .reset_index(drop=True)\n",
    "          .sort_index())\n",
    "    return df"
   ]
  },
  {
   "cell_type": "code",
   "execution_count": null,
   "id": "c8b64bb8",
   "metadata": {},
   "outputs": [],
   "source": []
  },
  {
   "cell_type": "code",
   "execution_count": null,
   "id": "0fa8b212",
   "metadata": {},
   "outputs": [],
   "source": []
  },
  {
   "cell_type": "code",
   "execution_count": null,
   "id": "cc5f3095",
   "metadata": {},
   "outputs": [],
   "source": []
  },
  {
   "cell_type": "code",
   "execution_count": null,
   "id": "feef20ce",
   "metadata": {},
   "outputs": [],
   "source": []
  },
  {
   "cell_type": "code",
   "execution_count": 17,
   "id": "314f2016",
   "metadata": {},
   "outputs": [
    {
     "data": {
      "text/html": [
       "<div>\n",
       "<style scoped>\n",
       "    .dataframe tbody tr th:only-of-type {\n",
       "        vertical-align: middle;\n",
       "    }\n",
       "\n",
       "    .dataframe tbody tr th {\n",
       "        vertical-align: top;\n",
       "    }\n",
       "\n",
       "    .dataframe thead th {\n",
       "        text-align: right;\n",
       "    }\n",
       "</style>\n",
       "<table border=\"1\" class=\"dataframe\">\n",
       "  <thead>\n",
       "    <tr style=\"text-align: right;\">\n",
       "      <th></th>\n",
       "      <th>gender</th>\n",
       "      <th>job</th>\n",
       "    </tr>\n",
       "  </thead>\n",
       "  <tbody>\n",
       "    <tr>\n",
       "      <th>0</th>\n",
       "      <td>female</td>\n",
       "      <td>nurse</td>\n",
       "    </tr>\n",
       "    <tr>\n",
       "      <th>1</th>\n",
       "      <td>male</td>\n",
       "      <td>footballer</td>\n",
       "    </tr>\n",
       "    <tr>\n",
       "      <th>2</th>\n",
       "      <td>female</td>\n",
       "      <td>nurse</td>\n",
       "    </tr>\n",
       "    <tr>\n",
       "      <th>3</th>\n",
       "      <td>female</td>\n",
       "      <td>lawyer</td>\n",
       "    </tr>\n",
       "    <tr>\n",
       "      <th>4</th>\n",
       "      <td>female</td>\n",
       "      <td>nurse</td>\n",
       "    </tr>\n",
       "    <tr>\n",
       "      <th>...</th>\n",
       "      <td>...</td>\n",
       "      <td>...</td>\n",
       "    </tr>\n",
       "    <tr>\n",
       "      <th>295</th>\n",
       "      <td>male</td>\n",
       "      <td>footballer</td>\n",
       "    </tr>\n",
       "    <tr>\n",
       "      <th>296</th>\n",
       "      <td>male</td>\n",
       "      <td>footballer</td>\n",
       "    </tr>\n",
       "    <tr>\n",
       "      <th>297</th>\n",
       "      <td>male</td>\n",
       "      <td>footballer</td>\n",
       "    </tr>\n",
       "    <tr>\n",
       "      <th>298</th>\n",
       "      <td>male</td>\n",
       "      <td>footballer</td>\n",
       "    </tr>\n",
       "    <tr>\n",
       "      <th>299</th>\n",
       "      <td>female</td>\n",
       "      <td>lawyer</td>\n",
       "    </tr>\n",
       "  </tbody>\n",
       "</table>\n",
       "<p>300 rows × 2 columns</p>\n",
       "</div>"
      ],
      "text/plain": [
       "     gender         job\n",
       "0    female       nurse\n",
       "1      male  footballer\n",
       "2    female       nurse\n",
       "3    female      lawyer\n",
       "4    female       nurse\n",
       "..      ...         ...\n",
       "295    male  footballer\n",
       "296    male  footballer\n",
       "297    male  footballer\n",
       "298    male  footballer\n",
       "299  female      lawyer\n",
       "\n",
       "[300 rows x 2 columns]"
      ]
     },
     "execution_count": 17,
     "metadata": {},
     "output_type": "execute_result"
    }
   ],
   "source": [
    "df.sort_index()\n"
   ]
  },
  {
   "cell_type": "code",
   "execution_count": 63,
   "id": "3574b5b3",
   "metadata": {},
   "outputs": [
    {
     "data": {
      "text/plain": [
       "'sdsd132123'"
      ]
     },
     "execution_count": 63,
     "metadata": {},
     "output_type": "execute_result"
    }
   ],
   "source": [
    "test.pop()\n",
    "\n",
    "def add_new_categorical_feature(df, orig_f, new_f_name, new_cats):\n",
    "    # copy df and drop orig_f from orig df - will add after correlation\n",
    "    temp_df = df.copy()\n",
    "    # df = df.drop(columns=[orig_f])\n",
    "    df['index'] = df.index\n",
    "    \n",
    "    temp_df = temp_df[[orig_f]]\n",
    "    temp_df['index'] = temp_df.index\n",
    "    temp_df[new_f_name] = np.nan\n",
    "    df[new_f_name] = np.nan\n",
    "    for cat in temp_df[orig_f].unique():\n",
    "        print(df)\n",
    "        print(temp_df)\n",
    "        sub_dict = new_cats[cat]\n",
    "        sub_df = temp_df.loc[temp_df[orig_f] == cat]\n",
    "        sub_df['index'] = sub_df.index\n",
    "        sub_df[new_f_name] = np.array(np.random.choice(sub_dict['cats'], sub_dict['size'], p=sub_dict['prob']))\n",
    "        temp_df = temp_df.merge(sub_df, on=[orig_f, 'index'], how='left')\n",
    "        l_suff = new_f_name + '_x'\n",
    "        r_suff = new_f_name + '_y'\n",
    "        df[new_f_name] = temp_df[[l_suff, r_suff]].apply(lambda x: ''.join(x.dropna()), axis=1)\n",
    "        df = df[[orig_f, new_f_name, 'index']]\n",
    "        temp_df = temp_df[[orig_f, new_f_name, 'index']]\n",
    "        print(df)\n",
    "        print(temp_df)\n",
    "        # print(df)\n",
    "        # print(temp_df)\n",
    "        # df = df.merge(temp_df, on=[orig_f, 'index'])\n",
    "    return df"
   ]
  },
  {
   "cell_type": "code",
   "execution_count": 64,
   "id": "ad0bac8b",
   "metadata": {},
   "outputs": [
    {
     "data": {
      "text/plain": [
       "['sdsd']"
      ]
     },
     "execution_count": 64,
     "metadata": {},
     "output_type": "execute_result"
    }
   ],
   "source": [
    "test"
   ]
  },
  {
   "cell_type": "code",
   "execution_count": 63,
   "id": "4eb27dac",
   "metadata": {},
   "outputs": [
    {
     "data": {
      "text/plain": [
       "'sdsd132123'"
      ]
     },
     "execution_count": 63,
     "metadata": {},
     "output_type": "execute_result"
    }
   ],
   "source": [
    "test.pop()\n",
    "\n",
    "def add_new_categorical_feature(df, orig_f, new_f_name, new_cats):\n",
    "    # copy df and drop orig_f from orig df - will add after correlation\n",
    "    temp_df = df.copy()\n",
    "    # df = df.drop(columns=[orig_f])\n",
    "    df['index'] = df.index\n",
    "    \n",
    "    temp_df = temp_df[[orig_f]]\n",
    "    temp_df['index'] = temp_df.index\n",
    "    temp_df[new_f_name] = np.nan\n",
    "    df[new_f_name] = np.nan\n",
    "    for cat in temp_df[orig_f].unique():\n",
    "        print(df)\n",
    "        print(temp_df)\n",
    "        sub_dict = new_cats[cat]\n",
    "        sub_df = temp_df.loc[temp_df[orig_f] == cat]\n",
    "        sub_df['index'] = sub_df.index\n",
    "        sub_df[new_f_name] = np.array(np.random.choice(sub_dict['cats'], sub_dict['size'], p=sub_dict['prob']))\n",
    "        temp_df = temp_df.merge(sub_df, on=[orig_f, 'index'], how='left')\n",
    "        l_suff = new_f_name + '_x'\n",
    "        r_suff = new_f_name + '_y'\n",
    "        df[new_f_name] = temp_df[[l_suff, r_suff]].apply(lambda x: ''.join(x.dropna()), axis=1)\n",
    "        df = df[[orig_f, new_f_name, 'index']]\n",
    "        temp_df = temp_df[[orig_f, new_f_name, 'index']]\n",
    "        print(df)\n",
    "        print(temp_df)\n",
    "        # print(df)\n",
    "        # print(temp_df)\n",
    "        # df = df.merge(temp_df, on=[orig_f, 'index'])\n",
    "    return df"
   ]
  },
  {
   "cell_type": "code",
   "execution_count": 224,
   "id": "7ed0ee3b-6f72-4671-8920-ce83a6305292",
   "metadata": {},
   "outputs": [],
   "source": [
    "# df_up = add_new_categorical_feature(df, corr_feature, 'job', new_cats)\n"
   ]
  },
  {
   "cell_type": "code",
   "execution_count": 256,
   "id": "891e6bca",
   "metadata": {},
   "outputs": [],
   "source": [
    "# input from browser\n",
    "new_f_name = 'job'"
   ]
  },
  {
   "cell_type": "code",
   "execution_count": 257,
   "id": "3bf37e12-6ccc-4dc9-bf43-667f858c0af2",
   "metadata": {},
   "outputs": [],
   "source": [
    "\n",
    "orig_columns = df.columns.to_list()\n",
    "orig_columns.append('index')\n",
    "temp_df = df.copy()\n",
    "# df = df.drop(columns=[orig_f])\n",
    "df['index'] = df.index\n",
    "\n",
    "temp_df = temp_df[[orig_f]]\n",
    "temp_df['index'] = temp_df.index\n",
    "\n",
    "temp_df[new_f_name] = np.nan\n",
    "df[new_f_name] = np.nan\n",
    "\n",
    "cat = 'male'\n",
    "sub_dict = new_cats[cat]\n"
   ]
  },
  {
   "cell_type": "code",
   "execution_count": 230,
   "id": "36e809ba",
   "metadata": {},
   "outputs": [
    {
     "data": {
      "text/plain": [
       "['gender', 'index']"
      ]
     },
     "execution_count": 230,
     "metadata": {},
     "output_type": "execute_result"
    }
   ],
   "source": [
    "orig_columns\n",
    "\n"
   ]
  },
  {
   "cell_type": "code",
   "execution_count": 258,
   "id": "3d157889",
   "metadata": {},
   "outputs": [],
   "source": [
    "\n",
    "sub_df = temp_df.loc[temp_df[orig_f] == cat]"
   ]
  },
  {
   "cell_type": "code",
   "execution_count": 259,
   "id": "3b8ed157",
   "metadata": {},
   "outputs": [
    {
     "name": "stderr",
     "output_type": "stream",
     "text": [
      "__main__:1: SettingWithCopyWarning: \n",
      "A value is trying to be set on a copy of a slice from a DataFrame.\n",
      "Try using .loc[row_indexer,col_indexer] = value instead\n",
      "\n",
      "See the caveats in the documentation: https://pandas.pydata.org/pandas-docs/stable/user_guide/indexing.html#returning-a-view-versus-a-copy\n"
     ]
    }
   ],
   "source": [
    "sub_df[new_f_name] = np.array(np.random.choice(sub_dict['cats'], sub_dict['size'], p=sub_dict['prob']))"
   ]
  },
  {
   "cell_type": "code",
   "execution_count": 260,
   "id": "53fe5eec",
   "metadata": {},
   "outputs": [],
   "source": [
    "temp_df = temp_df.merge(sub_df, on=[orig_f, 'index'], how='left')\n"
   ]
  },
  {
   "cell_type": "code",
   "execution_count": 261,
   "id": "0d0e27c6",
   "metadata": {},
   "outputs": [],
   "source": [
    "l_suff = new_f_name + '_x'\n",
    "r_suff = new_f_name + '_y'\n",
    "temp_df[new_f_name] = temp_df[[l_suff, r_suff]].apply(lambda x: ''.join(x.dropna()), axis=1)\n",
    "  "
   ]
  },
  {
   "cell_type": "code",
   "execution_count": 262,
   "id": "7a4787e0",
   "metadata": {},
   "outputs": [],
   "source": [
    "temp_df = temp_df[[orig_f, new_f_name, 'index']]\n"
   ]
  },
  {
   "cell_type": "code",
   "execution_count": 263,
   "id": "16cdc478",
   "metadata": {},
   "outputs": [
    {
     "data": {
      "text/html": [
       "<div>\n",
       "<style scoped>\n",
       "    .dataframe tbody tr th:only-of-type {\n",
       "        vertical-align: middle;\n",
       "    }\n",
       "\n",
       "    .dataframe tbody tr th {\n",
       "        vertical-align: top;\n",
       "    }\n",
       "\n",
       "    .dataframe thead th {\n",
       "        text-align: right;\n",
       "    }\n",
       "</style>\n",
       "<table border=\"1\" class=\"dataframe\">\n",
       "  <thead>\n",
       "    <tr style=\"text-align: right;\">\n",
       "      <th></th>\n",
       "      <th>gender</th>\n",
       "      <th>index</th>\n",
       "      <th>job</th>\n",
       "    </tr>\n",
       "  </thead>\n",
       "  <tbody>\n",
       "    <tr>\n",
       "      <th>0</th>\n",
       "      <td>male</td>\n",
       "      <td>0</td>\n",
       "      <td>NaN</td>\n",
       "    </tr>\n",
       "    <tr>\n",
       "      <th>1</th>\n",
       "      <td>female</td>\n",
       "      <td>1</td>\n",
       "      <td>NaN</td>\n",
       "    </tr>\n",
       "    <tr>\n",
       "      <th>2</th>\n",
       "      <td>female</td>\n",
       "      <td>2</td>\n",
       "      <td>NaN</td>\n",
       "    </tr>\n",
       "    <tr>\n",
       "      <th>3</th>\n",
       "      <td>female</td>\n",
       "      <td>3</td>\n",
       "      <td>NaN</td>\n",
       "    </tr>\n",
       "    <tr>\n",
       "      <th>4</th>\n",
       "      <td>female</td>\n",
       "      <td>4</td>\n",
       "      <td>NaN</td>\n",
       "    </tr>\n",
       "  </tbody>\n",
       "</table>\n",
       "</div>"
      ],
      "text/plain": [
       "   gender  index  job\n",
       "0    male      0  NaN\n",
       "1  female      1  NaN\n",
       "2  female      2  NaN\n",
       "3  female      3  NaN\n",
       "4  female      4  NaN"
      ]
     },
     "execution_count": 263,
     "metadata": {},
     "output_type": "execute_result"
    }
   ],
   "source": [
    "df.head()"
   ]
  },
  {
   "cell_type": "code",
   "execution_count": 264,
   "id": "1032a5a1",
   "metadata": {},
   "outputs": [],
   "source": [
    "df = df.merge(temp_df, on=[orig_f, 'index'], how='left')"
   ]
  },
  {
   "cell_type": "code",
   "execution_count": null,
   "id": "756cb654",
   "metadata": {},
   "outputs": [],
   "source": []
  },
  {
   "cell_type": "code",
   "execution_count": 274,
   "id": "6eae6d48",
   "metadata": {},
   "outputs": [
    {
     "data": {
      "text/html": [
       "<div>\n",
       "<style scoped>\n",
       "    .dataframe tbody tr th:only-of-type {\n",
       "        vertical-align: middle;\n",
       "    }\n",
       "\n",
       "    .dataframe tbody tr th {\n",
       "        vertical-align: top;\n",
       "    }\n",
       "\n",
       "    .dataframe thead th {\n",
       "        text-align: right;\n",
       "    }\n",
       "</style>\n",
       "<table border=\"1\" class=\"dataframe\">\n",
       "  <thead>\n",
       "    <tr style=\"text-align: right;\">\n",
       "      <th></th>\n",
       "      <th>gender</th>\n",
       "      <th>index</th>\n",
       "      <th>job_x</th>\n",
       "      <th>job_y</th>\n",
       "    </tr>\n",
       "  </thead>\n",
       "  <tbody>\n",
       "    <tr>\n",
       "      <th>0</th>\n",
       "      <td>male</td>\n",
       "      <td>0</td>\n",
       "      <td>NaN</td>\n",
       "      <td>footballer</td>\n",
       "    </tr>\n",
       "    <tr>\n",
       "      <th>1</th>\n",
       "      <td>female</td>\n",
       "      <td>1</td>\n",
       "      <td>NaN</td>\n",
       "      <td></td>\n",
       "    </tr>\n",
       "    <tr>\n",
       "      <th>2</th>\n",
       "      <td>female</td>\n",
       "      <td>2</td>\n",
       "      <td>NaN</td>\n",
       "      <td></td>\n",
       "    </tr>\n",
       "    <tr>\n",
       "      <th>3</th>\n",
       "      <td>female</td>\n",
       "      <td>3</td>\n",
       "      <td>NaN</td>\n",
       "      <td></td>\n",
       "    </tr>\n",
       "    <tr>\n",
       "      <th>4</th>\n",
       "      <td>female</td>\n",
       "      <td>4</td>\n",
       "      <td>NaN</td>\n",
       "      <td></td>\n",
       "    </tr>\n",
       "  </tbody>\n",
       "</table>\n",
       "</div>"
      ],
      "text/plain": [
       "   gender  index  job_x       job_y\n",
       "0    male      0    NaN  footballer\n",
       "1  female      1    NaN            \n",
       "2  female      2    NaN            \n",
       "3  female      3    NaN            \n",
       "4  female      4    NaN            "
      ]
     },
     "execution_count": 274,
     "metadata": {},
     "output_type": "execute_result"
    }
   ],
   "source": [
    "df.head()"
   ]
  },
  {
   "cell_type": "code",
   "execution_count": 277,
   "id": "16f3b79d",
   "metadata": {},
   "outputs": [],
   "source": [
    "def combine_rows(row):\n",
    "    if row[1] is '':\n",
    "        return row[0]\n",
    "    else:\n",
    "        return row[1]"
   ]
  },
  {
   "cell_type": "code",
   "execution_count": 279,
   "id": "40ff74ad",
   "metadata": {},
   "outputs": [],
   "source": [
    "l_suff = new_f_name + '_x'\n",
    "r_suff = new_f_name + '_y'\n",
    "df[new_f_name] = df[[l_suff, r_suff]].apply(combine_rows, axis=1)"
   ]
  },
  {
   "cell_type": "code",
   "execution_count": 280,
   "id": "3e4d876e",
   "metadata": {},
   "outputs": [
    {
     "data": {
      "text/html": [
       "<div>\n",
       "<style scoped>\n",
       "    .dataframe tbody tr th:only-of-type {\n",
       "        vertical-align: middle;\n",
       "    }\n",
       "\n",
       "    .dataframe tbody tr th {\n",
       "        vertical-align: top;\n",
       "    }\n",
       "\n",
       "    .dataframe thead th {\n",
       "        text-align: right;\n",
       "    }\n",
       "</style>\n",
       "<table border=\"1\" class=\"dataframe\">\n",
       "  <thead>\n",
       "    <tr style=\"text-align: right;\">\n",
       "      <th></th>\n",
       "      <th>gender</th>\n",
       "      <th>index</th>\n",
       "      <th>job_x</th>\n",
       "      <th>job_y</th>\n",
       "      <th>job</th>\n",
       "    </tr>\n",
       "  </thead>\n",
       "  <tbody>\n",
       "    <tr>\n",
       "      <th>0</th>\n",
       "      <td>male</td>\n",
       "      <td>0</td>\n",
       "      <td>NaN</td>\n",
       "      <td>footballer</td>\n",
       "      <td>footballer</td>\n",
       "    </tr>\n",
       "    <tr>\n",
       "      <th>1</th>\n",
       "      <td>female</td>\n",
       "      <td>1</td>\n",
       "      <td>NaN</td>\n",
       "      <td></td>\n",
       "      <td>NaN</td>\n",
       "    </tr>\n",
       "    <tr>\n",
       "      <th>2</th>\n",
       "      <td>female</td>\n",
       "      <td>2</td>\n",
       "      <td>NaN</td>\n",
       "      <td></td>\n",
       "      <td>NaN</td>\n",
       "    </tr>\n",
       "    <tr>\n",
       "      <th>3</th>\n",
       "      <td>female</td>\n",
       "      <td>3</td>\n",
       "      <td>NaN</td>\n",
       "      <td></td>\n",
       "      <td>NaN</td>\n",
       "    </tr>\n",
       "    <tr>\n",
       "      <th>4</th>\n",
       "      <td>female</td>\n",
       "      <td>4</td>\n",
       "      <td>NaN</td>\n",
       "      <td></td>\n",
       "      <td>NaN</td>\n",
       "    </tr>\n",
       "  </tbody>\n",
       "</table>\n",
       "</div>"
      ],
      "text/plain": [
       "   gender  index  job_x       job_y         job\n",
       "0    male      0    NaN  footballer  footballer\n",
       "1  female      1    NaN                     NaN\n",
       "2  female      2    NaN                     NaN\n",
       "3  female      3    NaN                     NaN\n",
       "4  female      4    NaN                     NaN"
      ]
     },
     "execution_count": 280,
     "metadata": {},
     "output_type": "execute_result"
    }
   ],
   "source": [
    "df.head()"
   ]
  },
  {
   "cell_type": "code",
   "execution_count": null,
   "id": "339517f0",
   "metadata": {},
   "outputs": [],
   "source": []
  },
  {
   "cell_type": "code",
   "execution_count": 281,
   "id": "6ba6e67c",
   "metadata": {},
   "outputs": [],
   "source": [
    "orig_columns.append(new_f_name)"
   ]
  },
  {
   "cell_type": "code",
   "execution_count": null,
   "id": "2b52dcf6",
   "metadata": {},
   "outputs": [],
   "source": []
  },
  {
   "cell_type": "code",
   "execution_count": 282,
   "id": "40941451",
   "metadata": {},
   "outputs": [],
   "source": [
    "df = df[orig_columns]\n"
   ]
  },
  {
   "cell_type": "code",
   "execution_count": 283,
   "id": "c73770ac",
   "metadata": {},
   "outputs": [
    {
     "data": {
      "text/html": [
       "<div>\n",
       "<style scoped>\n",
       "    .dataframe tbody tr th:only-of-type {\n",
       "        vertical-align: middle;\n",
       "    }\n",
       "\n",
       "    .dataframe tbody tr th {\n",
       "        vertical-align: top;\n",
       "    }\n",
       "\n",
       "    .dataframe thead th {\n",
       "        text-align: right;\n",
       "    }\n",
       "</style>\n",
       "<table border=\"1\" class=\"dataframe\">\n",
       "  <thead>\n",
       "    <tr style=\"text-align: right;\">\n",
       "      <th></th>\n",
       "      <th>gender</th>\n",
       "      <th>index</th>\n",
       "      <th>job</th>\n",
       "    </tr>\n",
       "  </thead>\n",
       "  <tbody>\n",
       "    <tr>\n",
       "      <th>0</th>\n",
       "      <td>male</td>\n",
       "      <td>0</td>\n",
       "      <td>footballer</td>\n",
       "    </tr>\n",
       "    <tr>\n",
       "      <th>1</th>\n",
       "      <td>female</td>\n",
       "      <td>1</td>\n",
       "      <td>NaN</td>\n",
       "    </tr>\n",
       "    <tr>\n",
       "      <th>2</th>\n",
       "      <td>female</td>\n",
       "      <td>2</td>\n",
       "      <td>NaN</td>\n",
       "    </tr>\n",
       "    <tr>\n",
       "      <th>3</th>\n",
       "      <td>female</td>\n",
       "      <td>3</td>\n",
       "      <td>NaN</td>\n",
       "    </tr>\n",
       "    <tr>\n",
       "      <th>4</th>\n",
       "      <td>female</td>\n",
       "      <td>4</td>\n",
       "      <td>NaN</td>\n",
       "    </tr>\n",
       "  </tbody>\n",
       "</table>\n",
       "</div>"
      ],
      "text/plain": [
       "   gender  index         job\n",
       "0    male      0  footballer\n",
       "1  female      1         NaN\n",
       "2  female      2         NaN\n",
       "3  female      3         NaN\n",
       "4  female      4         NaN"
      ]
     },
     "execution_count": 283,
     "metadata": {},
     "output_type": "execute_result"
    }
   ],
   "source": [
    "df.head()"
   ]
  },
  {
   "cell_type": "code",
   "execution_count": 284,
   "id": "6a7e9cd3",
   "metadata": {},
   "outputs": [],
   "source": [
    "cat = 'female'\n",
    "sub_dict = new_cats[cat]\n"
   ]
  },
  {
   "cell_type": "code",
   "execution_count": 285,
   "id": "387b7390",
   "metadata": {},
   "outputs": [
    {
     "data": {
      "text/html": [
       "<div>\n",
       "<style scoped>\n",
       "    .dataframe tbody tr th:only-of-type {\n",
       "        vertical-align: middle;\n",
       "    }\n",
       "\n",
       "    .dataframe tbody tr th {\n",
       "        vertical-align: top;\n",
       "    }\n",
       "\n",
       "    .dataframe thead th {\n",
       "        text-align: right;\n",
       "    }\n",
       "</style>\n",
       "<table border=\"1\" class=\"dataframe\">\n",
       "  <thead>\n",
       "    <tr style=\"text-align: right;\">\n",
       "      <th></th>\n",
       "      <th>gender</th>\n",
       "      <th>index</th>\n",
       "      <th>job</th>\n",
       "    </tr>\n",
       "  </thead>\n",
       "  <tbody>\n",
       "    <tr>\n",
       "      <th>0</th>\n",
       "      <td>male</td>\n",
       "      <td>0</td>\n",
       "      <td>footballer</td>\n",
       "    </tr>\n",
       "    <tr>\n",
       "      <th>1</th>\n",
       "      <td>female</td>\n",
       "      <td>1</td>\n",
       "      <td>NaN</td>\n",
       "    </tr>\n",
       "    <tr>\n",
       "      <th>2</th>\n",
       "      <td>female</td>\n",
       "      <td>2</td>\n",
       "      <td>NaN</td>\n",
       "    </tr>\n",
       "    <tr>\n",
       "      <th>3</th>\n",
       "      <td>female</td>\n",
       "      <td>3</td>\n",
       "      <td>NaN</td>\n",
       "    </tr>\n",
       "    <tr>\n",
       "      <th>4</th>\n",
       "      <td>female</td>\n",
       "      <td>4</td>\n",
       "      <td>NaN</td>\n",
       "    </tr>\n",
       "  </tbody>\n",
       "</table>\n",
       "</div>"
      ],
      "text/plain": [
       "   gender  index         job\n",
       "0    male      0  footballer\n",
       "1  female      1         NaN\n",
       "2  female      2         NaN\n",
       "3  female      3         NaN\n",
       "4  female      4         NaN"
      ]
     },
     "execution_count": 285,
     "metadata": {},
     "output_type": "execute_result"
    }
   ],
   "source": [
    "df.head()"
   ]
  },
  {
   "cell_type": "code",
   "execution_count": null,
   "id": "2b93f48c",
   "metadata": {},
   "outputs": [],
   "source": [
    "df[new_f_name]"
   ]
  },
  {
   "cell_type": "code",
   "execution_count": 286,
   "id": "b0ab0588",
   "metadata": {},
   "outputs": [],
   "source": [
    "\n",
    "cat = 'female'\n",
    "sub_dict = new_cats[cat]\n"
   ]
  },
  {
   "cell_type": "code",
   "execution_count": 287,
   "id": "d9e3df2e",
   "metadata": {},
   "outputs": [],
   "source": [
    "\n",
    "sub_df = temp_df.loc[temp_df[orig_f] == cat]"
   ]
  },
  {
   "cell_type": "code",
   "execution_count": 288,
   "id": "94717144",
   "metadata": {},
   "outputs": [
    {
     "name": "stderr",
     "output_type": "stream",
     "text": [
      "__main__:1: SettingWithCopyWarning: \n",
      "A value is trying to be set on a copy of a slice from a DataFrame.\n",
      "Try using .loc[row_indexer,col_indexer] = value instead\n",
      "\n",
      "See the caveats in the documentation: https://pandas.pydata.org/pandas-docs/stable/user_guide/indexing.html#returning-a-view-versus-a-copy\n"
     ]
    }
   ],
   "source": [
    "sub_df[new_f_name] = np.array(np.random.choice(sub_dict['cats'], sub_dict['size'], p=sub_dict['prob']))\n"
   ]
  },
  {
   "cell_type": "code",
   "execution_count": 289,
   "id": "4c357579",
   "metadata": {},
   "outputs": [],
   "source": [
    "temp_df = temp_df.merge(sub_df, on=[orig_f, 'index'], how='left')"
   ]
  },
  {
   "cell_type": "code",
   "execution_count": 290,
   "id": "d242fa38",
   "metadata": {},
   "outputs": [],
   "source": [
    "l_suff = new_f_name + '_x'\n",
    "r_suff = new_f_name + '_y'\n",
    "temp_df[new_f_name] = temp_df[[l_suff, r_suff]].apply(lambda x: ''.join(x.dropna()), axis=1)\n",
    "  "
   ]
  },
  {
   "cell_type": "code",
   "execution_count": 291,
   "id": "4de700f3",
   "metadata": {},
   "outputs": [],
   "source": [
    "temp_df = temp_df[[orig_f, new_f_name, 'index']]"
   ]
  },
  {
   "cell_type": "code",
   "execution_count": 292,
   "id": "00c1579c",
   "metadata": {},
   "outputs": [],
   "source": [
    "df = df.merge(temp_df, on=[orig_f, 'index'], how='left')"
   ]
  },
  {
   "cell_type": "code",
   "execution_count": 293,
   "id": "f3b4dc42",
   "metadata": {},
   "outputs": [],
   "source": [
    "l_suff = new_f_name + '_x'\n",
    "r_suff = new_f_name + '_y'\n",
    "df[new_f_name] = df[[l_suff, r_suff]].apply(combine_rows, axis=1)"
   ]
  },
  {
   "cell_type": "code",
   "execution_count": 295,
   "id": "41a95f71",
   "metadata": {},
   "outputs": [],
   "source": [
    "df = df[orig_columns]"
   ]
  },
  {
   "cell_type": "code",
   "execution_count": 297,
   "id": "97b9f08a",
   "metadata": {},
   "outputs": [
    {
     "data": {
      "text/html": [
       "<div>\n",
       "<style scoped>\n",
       "    .dataframe tbody tr th:only-of-type {\n",
       "        vertical-align: middle;\n",
       "    }\n",
       "\n",
       "    .dataframe tbody tr th {\n",
       "        vertical-align: top;\n",
       "    }\n",
       "\n",
       "    .dataframe thead th {\n",
       "        text-align: right;\n",
       "    }\n",
       "</style>\n",
       "<table border=\"1\" class=\"dataframe\">\n",
       "  <thead>\n",
       "    <tr style=\"text-align: right;\">\n",
       "      <th></th>\n",
       "      <th>gender</th>\n",
       "      <th>index</th>\n",
       "      <th>job</th>\n",
       "    </tr>\n",
       "  </thead>\n",
       "  <tbody>\n",
       "    <tr>\n",
       "      <th>176</th>\n",
       "      <td>male</td>\n",
       "      <td>176</td>\n",
       "      <td>doctor</td>\n",
       "    </tr>\n",
       "    <tr>\n",
       "      <th>108</th>\n",
       "      <td>female</td>\n",
       "      <td>108</td>\n",
       "      <td>nurse</td>\n",
       "    </tr>\n",
       "    <tr>\n",
       "      <th>31</th>\n",
       "      <td>female</td>\n",
       "      <td>31</td>\n",
       "      <td>nurse</td>\n",
       "    </tr>\n",
       "    <tr>\n",
       "      <th>54</th>\n",
       "      <td>female</td>\n",
       "      <td>54</td>\n",
       "      <td>lawyer</td>\n",
       "    </tr>\n",
       "    <tr>\n",
       "      <th>225</th>\n",
       "      <td>female</td>\n",
       "      <td>225</td>\n",
       "      <td>lawyer</td>\n",
       "    </tr>\n",
       "    <tr>\n",
       "      <th>141</th>\n",
       "      <td>female</td>\n",
       "      <td>141</td>\n",
       "      <td>nurse</td>\n",
       "    </tr>\n",
       "    <tr>\n",
       "      <th>51</th>\n",
       "      <td>female</td>\n",
       "      <td>51</td>\n",
       "      <td>lawyer</td>\n",
       "    </tr>\n",
       "    <tr>\n",
       "      <th>87</th>\n",
       "      <td>male</td>\n",
       "      <td>87</td>\n",
       "      <td>footballer</td>\n",
       "    </tr>\n",
       "    <tr>\n",
       "      <th>299</th>\n",
       "      <td>female</td>\n",
       "      <td>299</td>\n",
       "      <td>nurse</td>\n",
       "    </tr>\n",
       "    <tr>\n",
       "      <th>213</th>\n",
       "      <td>male</td>\n",
       "      <td>213</td>\n",
       "      <td>doctor</td>\n",
       "    </tr>\n",
       "  </tbody>\n",
       "</table>\n",
       "</div>"
      ],
      "text/plain": [
       "     gender  index         job\n",
       "176    male    176      doctor\n",
       "108  female    108       nurse\n",
       "31   female     31       nurse\n",
       "54   female     54      lawyer\n",
       "225  female    225      lawyer\n",
       "141  female    141       nurse\n",
       "51   female     51      lawyer\n",
       "87     male     87  footballer\n",
       "299  female    299       nurse\n",
       "213    male    213      doctor"
      ]
     },
     "execution_count": 297,
     "metadata": {},
     "output_type": "execute_result"
    }
   ],
   "source": [
    "df.sample(10)"
   ]
  },
  {
   "cell_type": "code",
   "execution_count": 45,
   "id": "c8aa576d",
   "metadata": {},
   "outputs": [
    {
     "name": "stderr",
     "output_type": "stream",
     "text": [
      "__main__:1: SettingWithCopyWarning: \n",
      "A value is trying to be set on a copy of a slice from a DataFrame.\n",
      "Try using .loc[row_indexer,col_indexer] = value instead\n",
      "\n",
      "See the caveats in the documentation: https://pandas.pydata.org/pandas-docs/stable/user_guide/indexing.html#returning-a-view-versus-a-copy\n"
     ]
    }
   ],
   "source": [
    "sub_df[new_f_name] = np.array(np.random.choice(sub_dict['cats'], sub_dict['size'], p=sub_dict['prob']))\n",
    "\n",
    "\n",
    "\n",
    "for cat in temp_df[orig_f].unique():\n",
    "    print(df)\n",
    "    print(temp_df)\n",
    "    sub_dict = new_cats[cat]\n",
    "    sub_df = temp_df.loc[temp_df[orig_f] == cat]\n",
    "    sub_df['index'] = sub_df.index\n",
    "    sub_df[new_f_name] = np.array(np.random.choice(sub_dict['cats'], sub_dict['size'], p=sub_dict['prob']))\n",
    "    temp_df = temp_df.merge(sub_df, on=[orig_f, 'index'], how='left')\n",
    "    l_suff = new_f_name + '_x'\n",
    "    r_suff = new_f_name + '_y'\n",
    "    df[new_f_name] = temp_df[[l_suff, r_suff]].apply(lambda x: ''.join(x.dropna()), axis=1)\n",
    "    df = df[[orig_f, new_f_name, 'index']]\n",
    "    temp_df = temp_df[[orig_f, new_f_name, 'index']]\n",
    "    print(df)\n",
    "    print(temp_df)\n",
    "    # print(df)\n",
    "    # print(temp_df)\n",
    "    # df = df.merge(temp_df, on=[orig_f, 'index'])\n",
    "return df"
   ]
  },
  {
   "cell_type": "code",
   "execution_count": 26,
   "id": "5a12070b",
   "metadata": {},
   "outputs": [],
   "source": [
    "\n",
    "\n",
    "for cat in temp_df[orig_f].unique():\n",
    "    print(df)\n",
    "    print(temp_df)\n",
    "    sub_dict = new_cats[cat]\n",
    "    sub_df = temp_df.loc[temp_df[orig_f] == cat]\n",
    "    sub_df['index'] = sub_df.index\n",
    "    sub_df[new_f_name] = np.array(np.random.choice(sub_dict['cats'], sub_dict['size'], p=sub_dict['prob']))\n",
    "    temp_df = temp_df.merge(sub_df, on=[orig_f, 'index'], how='left')\n",
    "    l_suff = new_f_name + '_x'\n",
    "    r_suff = new_f_name + '_y'\n",
    "    df[new_f_name] = temp_df[[l_suff, r_suff]].apply(lambda x: ''.join(x.dropna()), axis=1)\n",
    "    df = df[[orig_f, new_f_name, 'index']]\n",
    "    temp_df = temp_df[[orig_f, new_f_name, 'index']]\n",
    "    print(df)\n",
    "    print(temp_df)\n",
    "    # print(df)\n",
    "    # print(temp_df)\n",
    "    # df = df.merge(temp_df, on=[orig_f, 'index'])\n",
    "return df"
   ]
  },
  {
   "cell_type": "code",
   "execution_count": 216,
   "id": "aabb8eae-cbc6-4858-b99c-2ad8223282b2",
   "metadata": {},
   "outputs": [],
   "source": [
    "df = df.drop(columns=[orig_f])"
   ]
  },
  {
   "cell_type": "code",
   "execution_count": 217,
   "id": "f9458b75-f76c-438a-ab8d-73d0c2d860bb",
   "metadata": {},
   "outputs": [],
   "source": [
    "temp_df = temp_df[[orig_f]]"
   ]
  },
  {
   "cell_type": "code",
   "execution_count": 220,
   "id": "c0654f6c-9a79-4b1f-889c-ef496ac826ed",
   "metadata": {},
   "outputs": [],
   "source": []
  },
  {
   "cell_type": "code",
   "execution_count": 231,
   "id": "35f46342-5a2d-4986-9467-f0eade4dc450",
   "metadata": {},
   "outputs": [],
   "source": [
    "sub_dict = new_cats['female']"
   ]
  },
  {
   "cell_type": "code",
   "execution_count": 232,
   "id": "02aff39c-6e03-4c5e-9fbc-826384ed0de0",
   "metadata": {},
   "outputs": [
    {
     "data": {
      "text/plain": [
       "{'cats': ['nurse', 'lawyer'], 'prob': [0.3, 0.7], 'size': 193}"
      ]
     },
     "execution_count": 232,
     "metadata": {},
     "output_type": "execute_result"
    }
   ],
   "source": [
    "sub_dict"
   ]
  },
  {
   "cell_type": "code",
   "execution_count": 233,
   "id": "6291b592-fa91-4751-9f74-29172e24b65e",
   "metadata": {},
   "outputs": [],
   "source": [
    "sub_df = temp_df.loc[temp_df['gender'] == 'female']"
   ]
  },
  {
   "cell_type": "code",
   "execution_count": null,
   "id": "7bbbca95-9927-4221-9c46-9170f6aba382",
   "metadata": {},
   "outputs": [],
   "source": []
  },
  {
   "cell_type": "code",
   "execution_count": 234,
   "id": "95c26b9d-96b4-4282-a602-c63ad801b9da",
   "metadata": {},
   "outputs": [
    {
     "name": "stderr",
     "output_type": "stream",
     "text": [
      "/var/folders/vh/zc5ymzmx6mx5l09pzzqvzdhm0000gn/T/ipykernel_34384/1602524711.py:1: SettingWithCopyWarning: \n",
      "A value is trying to be set on a copy of a slice from a DataFrame.\n",
      "Try using .loc[row_indexer,col_indexer] = value instead\n",
      "\n",
      "See the caveats in the documentation: https://pandas.pydata.org/pandas-docs/stable/user_guide/indexing.html#returning-a-view-versus-a-copy\n",
      "  sub_df['fsdf'] = np.array(np.random.choice(sub_dict['cats'], sub_dict['size'], p=sub_dict['prob']))\n"
     ]
    }
   ],
   "source": [
    "sub_df['fsdf'] = np.array(np.random.choice(sub_dict['cats'], sub_dict['size'], p=sub_dict['prob']))"
   ]
  },
  {
   "cell_type": "code",
   "execution_count": 235,
   "id": "1fb6b706-8acb-48c2-aaea-ac29f1cb64e0",
   "metadata": {},
   "outputs": [
    {
     "data": {
      "text/html": [
       "<div>\n",
       "<style scoped>\n",
       "    .dataframe tbody tr th:only-of-type {\n",
       "        vertical-align: middle;\n",
       "    }\n",
       "\n",
       "    .dataframe tbody tr th {\n",
       "        vertical-align: top;\n",
       "    }\n",
       "\n",
       "    .dataframe thead th {\n",
       "        text-align: right;\n",
       "    }\n",
       "</style>\n",
       "<table border=\"1\" class=\"dataframe\">\n",
       "  <thead>\n",
       "    <tr style=\"text-align: right;\">\n",
       "      <th></th>\n",
       "      <th>gender</th>\n",
       "      <th>fsdf</th>\n",
       "    </tr>\n",
       "  </thead>\n",
       "  <tbody>\n",
       "    <tr>\n",
       "      <th>2</th>\n",
       "      <td>female</td>\n",
       "      <td>lawyer</td>\n",
       "    </tr>\n",
       "    <tr>\n",
       "      <th>3</th>\n",
       "      <td>female</td>\n",
       "      <td>lawyer</td>\n",
       "    </tr>\n",
       "    <tr>\n",
       "      <th>4</th>\n",
       "      <td>female</td>\n",
       "      <td>lawyer</td>\n",
       "    </tr>\n",
       "    <tr>\n",
       "      <th>6</th>\n",
       "      <td>female</td>\n",
       "      <td>lawyer</td>\n",
       "    </tr>\n",
       "    <tr>\n",
       "      <th>7</th>\n",
       "      <td>female</td>\n",
       "      <td>nurse</td>\n",
       "    </tr>\n",
       "  </tbody>\n",
       "</table>\n",
       "</div>"
      ],
      "text/plain": [
       "   gender    fsdf\n",
       "2  female  lawyer\n",
       "3  female  lawyer\n",
       "4  female  lawyer\n",
       "6  female  lawyer\n",
       "7  female   nurse"
      ]
     },
     "execution_count": 235,
     "metadata": {},
     "output_type": "execute_result"
    }
   ],
   "source": [
    "sub_df.head()"
   ]
  },
  {
   "cell_type": "code",
   "execution_count": null,
   "id": "9cdd7a3a-742c-4358-8b06-191ef3550854",
   "metadata": {},
   "outputs": [],
   "source": [
    "temp_df['index'] = temp_df.index"
   ]
  },
  {
   "cell_type": "code",
   "execution_count": 247,
   "id": "fd8ff289-9cc5-4553-abed-d5a31cc1e7aa",
   "metadata": {},
   "outputs": [
    {
     "name": "stderr",
     "output_type": "stream",
     "text": [
      "/var/folders/vh/zc5ymzmx6mx5l09pzzqvzdhm0000gn/T/ipykernel_34384/2409249459.py:1: SettingWithCopyWarning: \n",
      "A value is trying to be set on a copy of a slice from a DataFrame.\n",
      "Try using .loc[row_indexer,col_indexer] = value instead\n",
      "\n",
      "See the caveats in the documentation: https://pandas.pydata.org/pandas-docs/stable/user_guide/indexing.html#returning-a-view-versus-a-copy\n",
      "  sub_df['index'] =sub_df.index\n"
     ]
    }
   ],
   "source": [
    "sub_df['index'] = sub_df.index"
   ]
  },
  {
   "cell_type": "code",
   "execution_count": 248,
   "id": "6d2973a2-aa17-4013-a00b-b11340f0f71e",
   "metadata": {},
   "outputs": [
    {
     "data": {
      "text/html": [
       "<div>\n",
       "<style scoped>\n",
       "    .dataframe tbody tr th:only-of-type {\n",
       "        vertical-align: middle;\n",
       "    }\n",
       "\n",
       "    .dataframe tbody tr th {\n",
       "        vertical-align: top;\n",
       "    }\n",
       "\n",
       "    .dataframe thead th {\n",
       "        text-align: right;\n",
       "    }\n",
       "</style>\n",
       "<table border=\"1\" class=\"dataframe\">\n",
       "  <thead>\n",
       "    <tr style=\"text-align: right;\">\n",
       "      <th></th>\n",
       "      <th>gender</th>\n",
       "      <th>fsdf</th>\n",
       "      <th>index</th>\n",
       "    </tr>\n",
       "  </thead>\n",
       "  <tbody>\n",
       "    <tr>\n",
       "      <th>0</th>\n",
       "      <td>male</td>\n",
       "      <td>footballer</td>\n",
       "      <td>0</td>\n",
       "    </tr>\n",
       "    <tr>\n",
       "      <th>1</th>\n",
       "      <td>male</td>\n",
       "      <td>doctor</td>\n",
       "      <td>1</td>\n",
       "    </tr>\n",
       "    <tr>\n",
       "      <th>2</th>\n",
       "      <td>female</td>\n",
       "      <td>NaN</td>\n",
       "      <td>2</td>\n",
       "    </tr>\n",
       "    <tr>\n",
       "      <th>3</th>\n",
       "      <td>female</td>\n",
       "      <td>NaN</td>\n",
       "      <td>3</td>\n",
       "    </tr>\n",
       "    <tr>\n",
       "      <th>4</th>\n",
       "      <td>female</td>\n",
       "      <td>NaN</td>\n",
       "      <td>4</td>\n",
       "    </tr>\n",
       "  </tbody>\n",
       "</table>\n",
       "</div>"
      ],
      "text/plain": [
       "   gender        fsdf  index\n",
       "0    male  footballer      0\n",
       "1    male      doctor      1\n",
       "2  female         NaN      2\n",
       "3  female         NaN      3\n",
       "4  female         NaN      4"
      ]
     },
     "execution_count": 248,
     "metadata": {},
     "output_type": "execute_result"
    }
   ],
   "source": [
    "temp_df.head()"
   ]
  },
  {
   "cell_type": "code",
   "execution_count": 249,
   "id": "2d0aee22-bffe-4a17-b69c-5e73c423df33",
   "metadata": {},
   "outputs": [
    {
     "data": {
      "text/html": [
       "<div>\n",
       "<style scoped>\n",
       "    .dataframe tbody tr th:only-of-type {\n",
       "        vertical-align: middle;\n",
       "    }\n",
       "\n",
       "    .dataframe tbody tr th {\n",
       "        vertical-align: top;\n",
       "    }\n",
       "\n",
       "    .dataframe thead th {\n",
       "        text-align: right;\n",
       "    }\n",
       "</style>\n",
       "<table border=\"1\" class=\"dataframe\">\n",
       "  <thead>\n",
       "    <tr style=\"text-align: right;\">\n",
       "      <th></th>\n",
       "      <th>gender</th>\n",
       "      <th>fsdf</th>\n",
       "      <th>index</th>\n",
       "    </tr>\n",
       "  </thead>\n",
       "  <tbody>\n",
       "    <tr>\n",
       "      <th>2</th>\n",
       "      <td>female</td>\n",
       "      <td>lawyer</td>\n",
       "      <td>2</td>\n",
       "    </tr>\n",
       "    <tr>\n",
       "      <th>3</th>\n",
       "      <td>female</td>\n",
       "      <td>lawyer</td>\n",
       "      <td>3</td>\n",
       "    </tr>\n",
       "    <tr>\n",
       "      <th>4</th>\n",
       "      <td>female</td>\n",
       "      <td>lawyer</td>\n",
       "      <td>4</td>\n",
       "    </tr>\n",
       "    <tr>\n",
       "      <th>6</th>\n",
       "      <td>female</td>\n",
       "      <td>lawyer</td>\n",
       "      <td>6</td>\n",
       "    </tr>\n",
       "    <tr>\n",
       "      <th>7</th>\n",
       "      <td>female</td>\n",
       "      <td>nurse</td>\n",
       "      <td>7</td>\n",
       "    </tr>\n",
       "  </tbody>\n",
       "</table>\n",
       "</div>"
      ],
      "text/plain": [
       "   gender    fsdf  index\n",
       "2  female  lawyer      2\n",
       "3  female  lawyer      3\n",
       "4  female  lawyer      4\n",
       "6  female  lawyer      6\n",
       "7  female   nurse      7"
      ]
     },
     "execution_count": 249,
     "metadata": {},
     "output_type": "execute_result"
    }
   ],
   "source": [
    "sub_df.head()"
   ]
  },
  {
   "cell_type": "code",
   "execution_count": 262,
   "id": "d90ed2b3-2323-4706-a341-664959d7c5f5",
   "metadata": {},
   "outputs": [],
   "source": [
    "temp_df = temp_df.merge(sub_df,\n",
    "        on=['gender', 'index'],\n",
    "        how='left')\n",
    "        # suffixes=('_x', None)).ffill(axis=1).drop(columns='fsdf_x')\n",
    "\n",
    "# df['fsdf']=df['fsdf'].astype(int)"
   ]
  },
  {
   "cell_type": "code",
   "execution_count": 267,
   "id": "0d1b652b-d9ff-4f70-9c31-5e93c77d2c99",
   "metadata": {},
   "outputs": [],
   "source": [
    "temp_df['fsdf'] = temp_df[['fsdf_x', 'fsdf_y']].apply(lambda x: ''.join(x.dropna()), axis=1)"
   ]
  },
  {
   "cell_type": "code",
   "execution_count": 271,
   "id": "430eaae7-f560-4f2a-b11a-afa66720ff69",
   "metadata": {},
   "outputs": [],
   "source": [
    "temp_df = temp_df[['gender', 'fsdf']]"
   ]
  },
  {
   "cell_type": "code",
   "execution_count": 273,
   "id": "d3a1ed4e-d9a9-41f6-bedc-82fa84f18fb1",
   "metadata": {},
   "outputs": [],
   "source": [
    "df = df.join(temp_df)"
   ]
  },
  {
   "cell_type": "code",
   "execution_count": 274,
   "id": "d2c8fde6-8333-4d15-b593-7860c1a1e147",
   "metadata": {},
   "outputs": [
    {
     "data": {
      "text/html": [
       "<div>\n",
       "<style scoped>\n",
       "    .dataframe tbody tr th:only-of-type {\n",
       "        vertical-align: middle;\n",
       "    }\n",
       "\n",
       "    .dataframe tbody tr th {\n",
       "        vertical-align: top;\n",
       "    }\n",
       "\n",
       "    .dataframe thead th {\n",
       "        text-align: right;\n",
       "    }\n",
       "</style>\n",
       "<table border=\"1\" class=\"dataframe\">\n",
       "  <thead>\n",
       "    <tr style=\"text-align: right;\">\n",
       "      <th></th>\n",
       "      <th>gender</th>\n",
       "      <th>fsdf</th>\n",
       "    </tr>\n",
       "  </thead>\n",
       "  <tbody>\n",
       "    <tr>\n",
       "      <th>0</th>\n",
       "      <td>male</td>\n",
       "      <td>footballer</td>\n",
       "    </tr>\n",
       "    <tr>\n",
       "      <th>1</th>\n",
       "      <td>male</td>\n",
       "      <td>doctor</td>\n",
       "    </tr>\n",
       "    <tr>\n",
       "      <th>2</th>\n",
       "      <td>female</td>\n",
       "      <td>lawyer</td>\n",
       "    </tr>\n",
       "    <tr>\n",
       "      <th>3</th>\n",
       "      <td>female</td>\n",
       "      <td>lawyer</td>\n",
       "    </tr>\n",
       "    <tr>\n",
       "      <th>4</th>\n",
       "      <td>female</td>\n",
       "      <td>lawyer</td>\n",
       "    </tr>\n",
       "  </tbody>\n",
       "</table>\n",
       "</div>"
      ],
      "text/plain": [
       "   gender        fsdf\n",
       "0    male  footballer\n",
       "1    male      doctor\n",
       "2  female      lawyer\n",
       "3  female      lawyer\n",
       "4  female      lawyer"
      ]
     },
     "execution_count": 274,
     "metadata": {},
     "output_type": "execute_result"
    }
   ],
   "source": [
    "df.head()"
   ]
  },
  {
   "cell_type": "code",
   "execution_count": 237,
   "id": "7c180796-380b-4228-a1b1-90ca9d6ac69d",
   "metadata": {},
   "outputs": [
    {
     "ename": "ValueError",
     "evalue": "columns overlap but no suffix specified: Index(['fsdf'], dtype='object')",
     "output_type": "error",
     "traceback": [
      "\u001b[0;31m---------------------------------------------------------------------------\u001b[0m",
      "\u001b[0;31mValueError\u001b[0m                                Traceback (most recent call last)",
      "Cell \u001b[0;32mIn[237], line 1\u001b[0m\n\u001b[0;32m----> 1\u001b[0m \u001b[43mtemp_df\u001b[49m\u001b[38;5;241;43m.\u001b[39;49m\u001b[43mjoin\u001b[49m\u001b[43m(\u001b[49m\u001b[43msub_df\u001b[49m\u001b[43m[\u001b[49m\u001b[38;5;124;43m'\u001b[39;49m\u001b[38;5;124;43mfsdf\u001b[39;49m\u001b[38;5;124;43m'\u001b[39;49m\u001b[43m]\u001b[49m\u001b[43m)\u001b[49m\n",
      "File \u001b[0;32m~/miniconda3/envs/data_sci/lib/python3.10/site-packages/pandas/core/frame.py:9976\u001b[0m, in \u001b[0;36mDataFrame.join\u001b[0;34m(self, other, on, how, lsuffix, rsuffix, sort, validate)\u001b[0m\n\u001b[1;32m   9813\u001b[0m \u001b[38;5;28;01mdef\u001b[39;00m \u001b[38;5;21mjoin\u001b[39m(\n\u001b[1;32m   9814\u001b[0m     \u001b[38;5;28mself\u001b[39m,\n\u001b[1;32m   9815\u001b[0m     other: DataFrame \u001b[38;5;241m|\u001b[39m Series \u001b[38;5;241m|\u001b[39m \u001b[38;5;28mlist\u001b[39m[DataFrame \u001b[38;5;241m|\u001b[39m Series],\n\u001b[0;32m   (...)\u001b[0m\n\u001b[1;32m   9821\u001b[0m     validate: \u001b[38;5;28mstr\u001b[39m \u001b[38;5;241m|\u001b[39m \u001b[38;5;28;01mNone\u001b[39;00m \u001b[38;5;241m=\u001b[39m \u001b[38;5;28;01mNone\u001b[39;00m,\n\u001b[1;32m   9822\u001b[0m ) \u001b[38;5;241m-\u001b[39m\u001b[38;5;241m>\u001b[39m DataFrame:\n\u001b[1;32m   9823\u001b[0m     \u001b[38;5;124;03m\"\"\"\u001b[39;00m\n\u001b[1;32m   9824\u001b[0m \u001b[38;5;124;03m    Join columns of another DataFrame.\u001b[39;00m\n\u001b[1;32m   9825\u001b[0m \n\u001b[0;32m   (...)\u001b[0m\n\u001b[1;32m   9974\u001b[0m \u001b[38;5;124;03m    5  K1  A5   B1\u001b[39;00m\n\u001b[1;32m   9975\u001b[0m \u001b[38;5;124;03m    \"\"\"\u001b[39;00m\n\u001b[0;32m-> 9976\u001b[0m     \u001b[38;5;28;01mreturn\u001b[39;00m \u001b[38;5;28;43mself\u001b[39;49m\u001b[38;5;241;43m.\u001b[39;49m\u001b[43m_join_compat\u001b[49m\u001b[43m(\u001b[49m\n\u001b[1;32m   9977\u001b[0m \u001b[43m        \u001b[49m\u001b[43mother\u001b[49m\u001b[43m,\u001b[49m\n\u001b[1;32m   9978\u001b[0m \u001b[43m        \u001b[49m\u001b[43mon\u001b[49m\u001b[38;5;241;43m=\u001b[39;49m\u001b[43mon\u001b[49m\u001b[43m,\u001b[49m\n\u001b[1;32m   9979\u001b[0m \u001b[43m        \u001b[49m\u001b[43mhow\u001b[49m\u001b[38;5;241;43m=\u001b[39;49m\u001b[43mhow\u001b[49m\u001b[43m,\u001b[49m\n\u001b[1;32m   9980\u001b[0m \u001b[43m        \u001b[49m\u001b[43mlsuffix\u001b[49m\u001b[38;5;241;43m=\u001b[39;49m\u001b[43mlsuffix\u001b[49m\u001b[43m,\u001b[49m\n\u001b[1;32m   9981\u001b[0m \u001b[43m        \u001b[49m\u001b[43mrsuffix\u001b[49m\u001b[38;5;241;43m=\u001b[39;49m\u001b[43mrsuffix\u001b[49m\u001b[43m,\u001b[49m\n\u001b[1;32m   9982\u001b[0m \u001b[43m        \u001b[49m\u001b[43msort\u001b[49m\u001b[38;5;241;43m=\u001b[39;49m\u001b[43msort\u001b[49m\u001b[43m,\u001b[49m\n\u001b[1;32m   9983\u001b[0m \u001b[43m        \u001b[49m\u001b[43mvalidate\u001b[49m\u001b[38;5;241;43m=\u001b[39;49m\u001b[43mvalidate\u001b[49m\u001b[43m,\u001b[49m\n\u001b[1;32m   9984\u001b[0m \u001b[43m    \u001b[49m\u001b[43m)\u001b[49m\n",
      "File \u001b[0;32m~/miniconda3/envs/data_sci/lib/python3.10/site-packages/pandas/core/frame.py:10015\u001b[0m, in \u001b[0;36mDataFrame._join_compat\u001b[0;34m(self, other, on, how, lsuffix, rsuffix, sort, validate)\u001b[0m\n\u001b[1;32m  10005\u001b[0m     \u001b[38;5;28;01mif\u001b[39;00m how \u001b[38;5;241m==\u001b[39m \u001b[38;5;124m\"\u001b[39m\u001b[38;5;124mcross\u001b[39m\u001b[38;5;124m\"\u001b[39m:\n\u001b[1;32m  10006\u001b[0m         \u001b[38;5;28;01mreturn\u001b[39;00m merge(\n\u001b[1;32m  10007\u001b[0m             \u001b[38;5;28mself\u001b[39m,\n\u001b[1;32m  10008\u001b[0m             other,\n\u001b[0;32m   (...)\u001b[0m\n\u001b[1;32m  10013\u001b[0m             validate\u001b[38;5;241m=\u001b[39mvalidate,\n\u001b[1;32m  10014\u001b[0m         )\n\u001b[0;32m> 10015\u001b[0m     \u001b[38;5;28;01mreturn\u001b[39;00m \u001b[43mmerge\u001b[49m\u001b[43m(\u001b[49m\n\u001b[1;32m  10016\u001b[0m \u001b[43m        \u001b[49m\u001b[38;5;28;43mself\u001b[39;49m\u001b[43m,\u001b[49m\n\u001b[1;32m  10017\u001b[0m \u001b[43m        \u001b[49m\u001b[43mother\u001b[49m\u001b[43m,\u001b[49m\n\u001b[1;32m  10018\u001b[0m \u001b[43m        \u001b[49m\u001b[43mleft_on\u001b[49m\u001b[38;5;241;43m=\u001b[39;49m\u001b[43mon\u001b[49m\u001b[43m,\u001b[49m\n\u001b[1;32m  10019\u001b[0m \u001b[43m        \u001b[49m\u001b[43mhow\u001b[49m\u001b[38;5;241;43m=\u001b[39;49m\u001b[43mhow\u001b[49m\u001b[43m,\u001b[49m\n\u001b[1;32m  10020\u001b[0m \u001b[43m        \u001b[49m\u001b[43mleft_index\u001b[49m\u001b[38;5;241;43m=\u001b[39;49m\u001b[43mon\u001b[49m\u001b[43m \u001b[49m\u001b[38;5;129;43;01mis\u001b[39;49;00m\u001b[43m \u001b[49m\u001b[38;5;28;43;01mNone\u001b[39;49;00m\u001b[43m,\u001b[49m\n\u001b[1;32m  10021\u001b[0m \u001b[43m        \u001b[49m\u001b[43mright_index\u001b[49m\u001b[38;5;241;43m=\u001b[39;49m\u001b[38;5;28;43;01mTrue\u001b[39;49;00m\u001b[43m,\u001b[49m\n\u001b[1;32m  10022\u001b[0m \u001b[43m        \u001b[49m\u001b[43msuffixes\u001b[49m\u001b[38;5;241;43m=\u001b[39;49m\u001b[43m(\u001b[49m\u001b[43mlsuffix\u001b[49m\u001b[43m,\u001b[49m\u001b[43m \u001b[49m\u001b[43mrsuffix\u001b[49m\u001b[43m)\u001b[49m\u001b[43m,\u001b[49m\n\u001b[1;32m  10023\u001b[0m \u001b[43m        \u001b[49m\u001b[43msort\u001b[49m\u001b[38;5;241;43m=\u001b[39;49m\u001b[43msort\u001b[49m\u001b[43m,\u001b[49m\n\u001b[1;32m  10024\u001b[0m \u001b[43m        \u001b[49m\u001b[43mvalidate\u001b[49m\u001b[38;5;241;43m=\u001b[39;49m\u001b[43mvalidate\u001b[49m\u001b[43m,\u001b[49m\n\u001b[1;32m  10025\u001b[0m \u001b[43m    \u001b[49m\u001b[43m)\u001b[49m\n\u001b[1;32m  10026\u001b[0m \u001b[38;5;28;01melse\u001b[39;00m:\n\u001b[1;32m  10027\u001b[0m     \u001b[38;5;28;01mif\u001b[39;00m on \u001b[38;5;129;01mis\u001b[39;00m \u001b[38;5;129;01mnot\u001b[39;00m \u001b[38;5;28;01mNone\u001b[39;00m:\n",
      "File \u001b[0;32m~/miniconda3/envs/data_sci/lib/python3.10/site-packages/pandas/core/reshape/merge.py:124\u001b[0m, in \u001b[0;36mmerge\u001b[0;34m(left, right, how, on, left_on, right_on, left_index, right_index, sort, suffixes, copy, indicator, validate)\u001b[0m\n\u001b[1;32m     93\u001b[0m \u001b[38;5;129m@Substitution\u001b[39m(\u001b[38;5;124m\"\u001b[39m\u001b[38;5;130;01m\\n\u001b[39;00m\u001b[38;5;124mleft : DataFrame or named Series\u001b[39m\u001b[38;5;124m\"\u001b[39m)\n\u001b[1;32m     94\u001b[0m \u001b[38;5;129m@Appender\u001b[39m(_merge_doc, indents\u001b[38;5;241m=\u001b[39m\u001b[38;5;241m0\u001b[39m)\n\u001b[1;32m     95\u001b[0m \u001b[38;5;28;01mdef\u001b[39;00m \u001b[38;5;21mmerge\u001b[39m(\n\u001b[0;32m   (...)\u001b[0m\n\u001b[1;32m    108\u001b[0m     validate: \u001b[38;5;28mstr\u001b[39m \u001b[38;5;241m|\u001b[39m \u001b[38;5;28;01mNone\u001b[39;00m \u001b[38;5;241m=\u001b[39m \u001b[38;5;28;01mNone\u001b[39;00m,\n\u001b[1;32m    109\u001b[0m ) \u001b[38;5;241m-\u001b[39m\u001b[38;5;241m>\u001b[39m DataFrame:\n\u001b[1;32m    110\u001b[0m     op \u001b[38;5;241m=\u001b[39m _MergeOperation(\n\u001b[1;32m    111\u001b[0m         left,\n\u001b[1;32m    112\u001b[0m         right,\n\u001b[0;32m   (...)\u001b[0m\n\u001b[1;32m    122\u001b[0m         validate\u001b[38;5;241m=\u001b[39mvalidate,\n\u001b[1;32m    123\u001b[0m     )\n\u001b[0;32m--> 124\u001b[0m     \u001b[38;5;28;01mreturn\u001b[39;00m \u001b[43mop\u001b[49m\u001b[38;5;241;43m.\u001b[39;49m\u001b[43mget_result\u001b[49m\u001b[43m(\u001b[49m\u001b[43mcopy\u001b[49m\u001b[38;5;241;43m=\u001b[39;49m\u001b[43mcopy\u001b[49m\u001b[43m)\u001b[49m\n",
      "File \u001b[0;32m~/miniconda3/envs/data_sci/lib/python3.10/site-packages/pandas/core/reshape/merge.py:775\u001b[0m, in \u001b[0;36m_MergeOperation.get_result\u001b[0;34m(self, copy)\u001b[0m\n\u001b[1;32m    771\u001b[0m     \u001b[38;5;28mself\u001b[39m\u001b[38;5;241m.\u001b[39mleft, \u001b[38;5;28mself\u001b[39m\u001b[38;5;241m.\u001b[39mright \u001b[38;5;241m=\u001b[39m \u001b[38;5;28mself\u001b[39m\u001b[38;5;241m.\u001b[39m_indicator_pre_merge(\u001b[38;5;28mself\u001b[39m\u001b[38;5;241m.\u001b[39mleft, \u001b[38;5;28mself\u001b[39m\u001b[38;5;241m.\u001b[39mright)\n\u001b[1;32m    773\u001b[0m join_index, left_indexer, right_indexer \u001b[38;5;241m=\u001b[39m \u001b[38;5;28mself\u001b[39m\u001b[38;5;241m.\u001b[39m_get_join_info()\n\u001b[0;32m--> 775\u001b[0m result \u001b[38;5;241m=\u001b[39m \u001b[38;5;28;43mself\u001b[39;49m\u001b[38;5;241;43m.\u001b[39;49m\u001b[43m_reindex_and_concat\u001b[49m\u001b[43m(\u001b[49m\n\u001b[1;32m    776\u001b[0m \u001b[43m    \u001b[49m\u001b[43mjoin_index\u001b[49m\u001b[43m,\u001b[49m\u001b[43m \u001b[49m\u001b[43mleft_indexer\u001b[49m\u001b[43m,\u001b[49m\u001b[43m \u001b[49m\u001b[43mright_indexer\u001b[49m\u001b[43m,\u001b[49m\u001b[43m \u001b[49m\u001b[43mcopy\u001b[49m\u001b[38;5;241;43m=\u001b[39;49m\u001b[43mcopy\u001b[49m\n\u001b[1;32m    777\u001b[0m \u001b[43m\u001b[49m\u001b[43m)\u001b[49m\n\u001b[1;32m    778\u001b[0m result \u001b[38;5;241m=\u001b[39m result\u001b[38;5;241m.\u001b[39m__finalize__(\u001b[38;5;28mself\u001b[39m, method\u001b[38;5;241m=\u001b[39m\u001b[38;5;28mself\u001b[39m\u001b[38;5;241m.\u001b[39m_merge_type)\n\u001b[1;32m    780\u001b[0m \u001b[38;5;28;01mif\u001b[39;00m \u001b[38;5;28mself\u001b[39m\u001b[38;5;241m.\u001b[39mindicator:\n",
      "File \u001b[0;32m~/miniconda3/envs/data_sci/lib/python3.10/site-packages/pandas/core/reshape/merge.py:729\u001b[0m, in \u001b[0;36m_MergeOperation._reindex_and_concat\u001b[0;34m(self, join_index, left_indexer, right_indexer, copy)\u001b[0m\n\u001b[1;32m    726\u001b[0m left \u001b[38;5;241m=\u001b[39m \u001b[38;5;28mself\u001b[39m\u001b[38;5;241m.\u001b[39mleft[:]\n\u001b[1;32m    727\u001b[0m right \u001b[38;5;241m=\u001b[39m \u001b[38;5;28mself\u001b[39m\u001b[38;5;241m.\u001b[39mright[:]\n\u001b[0;32m--> 729\u001b[0m llabels, rlabels \u001b[38;5;241m=\u001b[39m \u001b[43m_items_overlap_with_suffix\u001b[49m\u001b[43m(\u001b[49m\n\u001b[1;32m    730\u001b[0m \u001b[43m    \u001b[49m\u001b[38;5;28;43mself\u001b[39;49m\u001b[38;5;241;43m.\u001b[39;49m\u001b[43mleft\u001b[49m\u001b[38;5;241;43m.\u001b[39;49m\u001b[43m_info_axis\u001b[49m\u001b[43m,\u001b[49m\u001b[43m \u001b[49m\u001b[38;5;28;43mself\u001b[39;49m\u001b[38;5;241;43m.\u001b[39;49m\u001b[43mright\u001b[49m\u001b[38;5;241;43m.\u001b[39;49m\u001b[43m_info_axis\u001b[49m\u001b[43m,\u001b[49m\u001b[43m \u001b[49m\u001b[38;5;28;43mself\u001b[39;49m\u001b[38;5;241;43m.\u001b[39;49m\u001b[43msuffixes\u001b[49m\n\u001b[1;32m    731\u001b[0m \u001b[43m\u001b[49m\u001b[43m)\u001b[49m\n\u001b[1;32m    733\u001b[0m \u001b[38;5;28;01mif\u001b[39;00m left_indexer \u001b[38;5;129;01mis\u001b[39;00m \u001b[38;5;129;01mnot\u001b[39;00m \u001b[38;5;28;01mNone\u001b[39;00m:\n\u001b[1;32m    734\u001b[0m     \u001b[38;5;66;03m# Pinning the index here (and in the right code just below) is not\u001b[39;00m\n\u001b[1;32m    735\u001b[0m     \u001b[38;5;66;03m#  necessary, but makes the `.take` more performant if we have e.g.\u001b[39;00m\n\u001b[1;32m    736\u001b[0m     \u001b[38;5;66;03m#  a MultiIndex for left.index.\u001b[39;00m\n\u001b[1;32m    737\u001b[0m     lmgr \u001b[38;5;241m=\u001b[39m left\u001b[38;5;241m.\u001b[39m_mgr\u001b[38;5;241m.\u001b[39mreindex_indexer(\n\u001b[1;32m    738\u001b[0m         join_index,\n\u001b[1;32m    739\u001b[0m         left_indexer,\n\u001b[0;32m   (...)\u001b[0m\n\u001b[1;32m    744\u001b[0m         use_na_proxy\u001b[38;5;241m=\u001b[39m\u001b[38;5;28;01mTrue\u001b[39;00m,\n\u001b[1;32m    745\u001b[0m     )\n",
      "File \u001b[0;32m~/miniconda3/envs/data_sci/lib/python3.10/site-packages/pandas/core/reshape/merge.py:2458\u001b[0m, in \u001b[0;36m_items_overlap_with_suffix\u001b[0;34m(left, right, suffixes)\u001b[0m\n\u001b[1;32m   2455\u001b[0m lsuffix, rsuffix \u001b[38;5;241m=\u001b[39m suffixes\n\u001b[1;32m   2457\u001b[0m \u001b[38;5;28;01mif\u001b[39;00m \u001b[38;5;129;01mnot\u001b[39;00m lsuffix \u001b[38;5;129;01mand\u001b[39;00m \u001b[38;5;129;01mnot\u001b[39;00m rsuffix:\n\u001b[0;32m-> 2458\u001b[0m     \u001b[38;5;28;01mraise\u001b[39;00m \u001b[38;5;167;01mValueError\u001b[39;00m(\u001b[38;5;124mf\u001b[39m\u001b[38;5;124m\"\u001b[39m\u001b[38;5;124mcolumns overlap but no suffix specified: \u001b[39m\u001b[38;5;132;01m{\u001b[39;00mto_rename\u001b[38;5;132;01m}\u001b[39;00m\u001b[38;5;124m\"\u001b[39m)\n\u001b[1;32m   2460\u001b[0m \u001b[38;5;28;01mdef\u001b[39;00m \u001b[38;5;21mrenamer\u001b[39m(x, suffix):\n\u001b[1;32m   2461\u001b[0m     \u001b[38;5;124;03m\"\"\"\u001b[39;00m\n\u001b[1;32m   2462\u001b[0m \u001b[38;5;124;03m    Rename the left and right indices.\u001b[39;00m\n\u001b[1;32m   2463\u001b[0m \n\u001b[0;32m   (...)\u001b[0m\n\u001b[1;32m   2474\u001b[0m \u001b[38;5;124;03m    x : renamed column name\u001b[39;00m\n\u001b[1;32m   2475\u001b[0m \u001b[38;5;124;03m    \"\"\"\u001b[39;00m\n",
      "\u001b[0;31mValueError\u001b[0m: columns overlap but no suffix specified: Index(['fsdf'], dtype='object')"
     ]
    }
   ],
   "source": [
    "temp_df.join(sub_df['fsdf'])"
   ]
  },
  {
   "cell_type": "code",
   "execution_count": 151,
   "id": "5b1ced9a-f59d-4c80-81ff-d042cfec1c95",
   "metadata": {},
   "outputs": [
    {
     "data": {
      "text/html": [
       "<div>\n",
       "<style scoped>\n",
       "    .dataframe tbody tr th:only-of-type {\n",
       "        vertical-align: middle;\n",
       "    }\n",
       "\n",
       "    .dataframe tbody tr th {\n",
       "        vertical-align: top;\n",
       "    }\n",
       "\n",
       "    .dataframe thead th {\n",
       "        text-align: right;\n",
       "    }\n",
       "</style>\n",
       "<table border=\"1\" class=\"dataframe\">\n",
       "  <thead>\n",
       "    <tr style=\"text-align: right;\">\n",
       "      <th></th>\n",
       "      <th>gender</th>\n",
       "      <th>fsdf</th>\n",
       "    </tr>\n",
       "  </thead>\n",
       "  <tbody>\n",
       "    <tr>\n",
       "      <th>0</th>\n",
       "      <td>female</td>\n",
       "      <td>NaN</td>\n",
       "    </tr>\n",
       "    <tr>\n",
       "      <th>1</th>\n",
       "      <td>female</td>\n",
       "      <td>NaN</td>\n",
       "    </tr>\n",
       "    <tr>\n",
       "      <th>2</th>\n",
       "      <td>female</td>\n",
       "      <td>NaN</td>\n",
       "    </tr>\n",
       "    <tr>\n",
       "      <th>3</th>\n",
       "      <td>female</td>\n",
       "      <td>NaN</td>\n",
       "    </tr>\n",
       "    <tr>\n",
       "      <th>4</th>\n",
       "      <td>male</td>\n",
       "      <td>footballer</td>\n",
       "    </tr>\n",
       "  </tbody>\n",
       "</table>\n",
       "</div>"
      ],
      "text/plain": [
       "   gender        fsdf\n",
       "0  female         NaN\n",
       "1  female         NaN\n",
       "2  female         NaN\n",
       "3  female         NaN\n",
       "4    male  footballer"
      ]
     },
     "execution_count": 151,
     "metadata": {},
     "output_type": "execute_result"
    }
   ],
   "source": [
    "temp_df.head()"
   ]
  },
  {
   "cell_type": "code",
   "execution_count": 152,
   "id": "0c94215f-20a8-447c-9da8-0da46336e798",
   "metadata": {},
   "outputs": [],
   "source": [
    "sub_dict = new_cats['female']"
   ]
  },
  {
   "cell_type": "code",
   "execution_count": 153,
   "id": "afe99498-abcb-4c05-9579-67265c1e798e",
   "metadata": {},
   "outputs": [],
   "source": [
    "sub_df = temp_df.loc[temp_df['gender'] == 'female']"
   ]
  },
  {
   "cell_type": "code",
   "execution_count": 155,
   "id": "71c68545-9848-45b6-ab2b-098cd7ac1ecb",
   "metadata": {},
   "outputs": [
    {
     "data": {
      "text/html": [
       "<div>\n",
       "<style scoped>\n",
       "    .dataframe tbody tr th:only-of-type {\n",
       "        vertical-align: middle;\n",
       "    }\n",
       "\n",
       "    .dataframe tbody tr th {\n",
       "        vertical-align: top;\n",
       "    }\n",
       "\n",
       "    .dataframe thead th {\n",
       "        text-align: right;\n",
       "    }\n",
       "</style>\n",
       "<table border=\"1\" class=\"dataframe\">\n",
       "  <thead>\n",
       "    <tr style=\"text-align: right;\">\n",
       "      <th></th>\n",
       "      <th>gender</th>\n",
       "      <th>fsdf</th>\n",
       "    </tr>\n",
       "  </thead>\n",
       "  <tbody>\n",
       "    <tr>\n",
       "      <th>0</th>\n",
       "      <td>female</td>\n",
       "      <td>NaN</td>\n",
       "    </tr>\n",
       "    <tr>\n",
       "      <th>1</th>\n",
       "      <td>female</td>\n",
       "      <td>NaN</td>\n",
       "    </tr>\n",
       "    <tr>\n",
       "      <th>2</th>\n",
       "      <td>female</td>\n",
       "      <td>NaN</td>\n",
       "    </tr>\n",
       "    <tr>\n",
       "      <th>3</th>\n",
       "      <td>female</td>\n",
       "      <td>NaN</td>\n",
       "    </tr>\n",
       "    <tr>\n",
       "      <th>5</th>\n",
       "      <td>female</td>\n",
       "      <td>NaN</td>\n",
       "    </tr>\n",
       "  </tbody>\n",
       "</table>\n",
       "</div>"
      ],
      "text/plain": [
       "   gender fsdf\n",
       "0  female  NaN\n",
       "1  female  NaN\n",
       "2  female  NaN\n",
       "3  female  NaN\n",
       "5  female  NaN"
      ]
     },
     "execution_count": 155,
     "metadata": {},
     "output_type": "execute_result"
    }
   ],
   "source": [
    "sub_df.head()"
   ]
  },
  {
   "cell_type": "code",
   "execution_count": 156,
   "id": "4d86c525-a201-4eb6-b573-5e8f5d35a3de",
   "metadata": {},
   "outputs": [
    {
     "name": "stderr",
     "output_type": "stream",
     "text": [
      "/var/folders/vh/zc5ymzmx6mx5l09pzzqvzdhm0000gn/T/ipykernel_34384/1602524711.py:1: SettingWithCopyWarning: \n",
      "A value is trying to be set on a copy of a slice from a DataFrame.\n",
      "Try using .loc[row_indexer,col_indexer] = value instead\n",
      "\n",
      "See the caveats in the documentation: https://pandas.pydata.org/pandas-docs/stable/user_guide/indexing.html#returning-a-view-versus-a-copy\n",
      "  sub_df['fsdf'] = np.array(np.random.choice(sub_dict['cats'], sub_dict['size'], p=sub_dict['prob']))\n"
     ]
    }
   ],
   "source": [
    "sub_df['fsdf'] = np.array(np.random.choice(sub_dict['cats'], sub_dict['size'], p=sub_dict['prob']))"
   ]
  },
  {
   "cell_type": "code",
   "execution_count": 230,
   "id": "f8af0fc5-7679-47f9-8b51-2a769e75103a",
   "metadata": {},
   "outputs": [],
   "source": [
    "temp_df = temp_df.merge(sub_df['fsdf'], left_index=True, right_index=True, how='left')"
   ]
  },
  {
   "cell_type": "code",
   "execution_count": 174,
   "id": "182c15b1-c974-411c-843d-bf348be5ef5f",
   "metadata": {},
   "outputs": [
    {
     "data": {
      "text/html": [
       "<div>\n",
       "<style scoped>\n",
       "    .dataframe tbody tr th:only-of-type {\n",
       "        vertical-align: middle;\n",
       "    }\n",
       "\n",
       "    .dataframe tbody tr th {\n",
       "        vertical-align: top;\n",
       "    }\n",
       "\n",
       "    .dataframe thead th {\n",
       "        text-align: right;\n",
       "    }\n",
       "</style>\n",
       "<table border=\"1\" class=\"dataframe\">\n",
       "  <thead>\n",
       "    <tr style=\"text-align: right;\">\n",
       "      <th></th>\n",
       "      <th>gender</th>\n",
       "      <th>fsdf</th>\n",
       "    </tr>\n",
       "  </thead>\n",
       "  <tbody>\n",
       "    <tr>\n",
       "      <th>4</th>\n",
       "      <td>male</td>\n",
       "      <td>footballer</td>\n",
       "    </tr>\n",
       "    <tr>\n",
       "      <th>8</th>\n",
       "      <td>male</td>\n",
       "      <td>doctor</td>\n",
       "    </tr>\n",
       "    <tr>\n",
       "      <th>10</th>\n",
       "      <td>male</td>\n",
       "      <td>doctor</td>\n",
       "    </tr>\n",
       "    <tr>\n",
       "      <th>13</th>\n",
       "      <td>male</td>\n",
       "      <td>footballer</td>\n",
       "    </tr>\n",
       "    <tr>\n",
       "      <th>16</th>\n",
       "      <td>male</td>\n",
       "      <td>footballer</td>\n",
       "    </tr>\n",
       "  </tbody>\n",
       "</table>\n",
       "</div>"
      ],
      "text/plain": [
       "   gender        fsdf\n",
       "4    male  footballer\n",
       "8    male      doctor\n",
       "10   male      doctor\n",
       "13   male  footballer\n",
       "16   male  footballer"
      ]
     },
     "execution_count": 174,
     "metadata": {},
     "output_type": "execute_result"
    }
   ],
   "source": [
    "sub_df.head()"
   ]
  },
  {
   "cell_type": "code",
   "execution_count": 175,
   "id": "92bce8f0-6beb-44bf-98ad-2c4d92530c47",
   "metadata": {},
   "outputs": [
    {
     "name": "stderr",
     "output_type": "stream",
     "text": [
      "/var/folders/vh/zc5ymzmx6mx5l09pzzqvzdhm0000gn/T/ipykernel_34384/1666110175.py:1: SettingWithCopyWarning: \n",
      "A value is trying to be set on a copy of a slice from a DataFrame\n",
      "\n",
      "See the caveats in the documentation: https://pandas.pydata.org/pandas-docs/stable/user_guide/indexing.html#returning-a-view-versus-a-copy\n",
      "  df_1.loc[df_1['gender'] == 'male', 'fsdf'] = sub_df.loc[sub_df['gender'] == 'male', 'fsdf']\n"
     ]
    },
    {
     "ename": "ValueError",
     "evalue": "shape mismatch: value array of shape (113,) could not be broadcast to indexing result of shape (0,)",
     "output_type": "error",
     "traceback": [
      "\u001b[0;31m---------------------------------------------------------------------------\u001b[0m",
      "\u001b[0;31mValueError\u001b[0m                                Traceback (most recent call last)",
      "Cell \u001b[0;32mIn[175], line 1\u001b[0m\n\u001b[0;32m----> 1\u001b[0m df_1\u001b[38;5;241m.\u001b[39mloc[df_1[\u001b[38;5;124m'\u001b[39m\u001b[38;5;124mgender\u001b[39m\u001b[38;5;124m'\u001b[39m] \u001b[38;5;241m==\u001b[39m \u001b[38;5;124m'\u001b[39m\u001b[38;5;124mmale\u001b[39m\u001b[38;5;124m'\u001b[39m, \u001b[38;5;124m'\u001b[39m\u001b[38;5;124mfsdf\u001b[39m\u001b[38;5;124m'\u001b[39m] \u001b[38;5;241m=\u001b[39m sub_df\u001b[38;5;241m.\u001b[39mloc[sub_df[\u001b[38;5;124m'\u001b[39m\u001b[38;5;124mgender\u001b[39m\u001b[38;5;124m'\u001b[39m] \u001b[38;5;241m==\u001b[39m \u001b[38;5;124m'\u001b[39m\u001b[38;5;124mmale\u001b[39m\u001b[38;5;124m'\u001b[39m, \u001b[38;5;124m'\u001b[39m\u001b[38;5;124mfsdf\u001b[39m\u001b[38;5;124m'\u001b[39m]\n",
      "File \u001b[0;32m~/miniconda3/envs/data_sci/lib/python3.10/site-packages/pandas/core/indexing.py:818\u001b[0m, in \u001b[0;36m_LocationIndexer.__setitem__\u001b[0;34m(self, key, value)\u001b[0m\n\u001b[1;32m    815\u001b[0m \u001b[38;5;28mself\u001b[39m\u001b[38;5;241m.\u001b[39m_has_valid_setitem_indexer(key)\n\u001b[1;32m    817\u001b[0m iloc \u001b[38;5;241m=\u001b[39m \u001b[38;5;28mself\u001b[39m \u001b[38;5;28;01mif\u001b[39;00m \u001b[38;5;28mself\u001b[39m\u001b[38;5;241m.\u001b[39mname \u001b[38;5;241m==\u001b[39m \u001b[38;5;124m\"\u001b[39m\u001b[38;5;124miloc\u001b[39m\u001b[38;5;124m\"\u001b[39m \u001b[38;5;28;01melse\u001b[39;00m \u001b[38;5;28mself\u001b[39m\u001b[38;5;241m.\u001b[39mobj\u001b[38;5;241m.\u001b[39miloc\n\u001b[0;32m--> 818\u001b[0m \u001b[43miloc\u001b[49m\u001b[38;5;241;43m.\u001b[39;49m\u001b[43m_setitem_with_indexer\u001b[49m\u001b[43m(\u001b[49m\u001b[43mindexer\u001b[49m\u001b[43m,\u001b[49m\u001b[43m \u001b[49m\u001b[43mvalue\u001b[49m\u001b[43m,\u001b[49m\u001b[43m \u001b[49m\u001b[38;5;28;43mself\u001b[39;49m\u001b[38;5;241;43m.\u001b[39;49m\u001b[43mname\u001b[49m\u001b[43m)\u001b[49m\n",
      "File \u001b[0;32m~/miniconda3/envs/data_sci/lib/python3.10/site-packages/pandas/core/indexing.py:1797\u001b[0m, in \u001b[0;36m_iLocIndexer._setitem_with_indexer\u001b[0;34m(self, indexer, value, name)\u001b[0m\n\u001b[1;32m   1795\u001b[0m     \u001b[38;5;28mself\u001b[39m\u001b[38;5;241m.\u001b[39m_setitem_with_indexer_split_path(indexer, value, name)\n\u001b[1;32m   1796\u001b[0m \u001b[38;5;28;01melse\u001b[39;00m:\n\u001b[0;32m-> 1797\u001b[0m     \u001b[38;5;28;43mself\u001b[39;49m\u001b[38;5;241;43m.\u001b[39;49m\u001b[43m_setitem_single_block\u001b[49m\u001b[43m(\u001b[49m\u001b[43mindexer\u001b[49m\u001b[43m,\u001b[49m\u001b[43m \u001b[49m\u001b[43mvalue\u001b[49m\u001b[43m,\u001b[49m\u001b[43m \u001b[49m\u001b[43mname\u001b[49m\u001b[43m)\u001b[49m\n",
      "File \u001b[0;32m~/miniconda3/envs/data_sci/lib/python3.10/site-packages/pandas/core/indexing.py:2078\u001b[0m, in \u001b[0;36m_iLocIndexer._setitem_single_block\u001b[0;34m(self, indexer, value, name)\u001b[0m\n\u001b[1;32m   2075\u001b[0m \u001b[38;5;28mself\u001b[39m\u001b[38;5;241m.\u001b[39mobj\u001b[38;5;241m.\u001b[39m_check_is_chained_assignment_possible()\n\u001b[1;32m   2077\u001b[0m \u001b[38;5;66;03m# actually do the set\u001b[39;00m\n\u001b[0;32m-> 2078\u001b[0m \u001b[38;5;28mself\u001b[39m\u001b[38;5;241m.\u001b[39mobj\u001b[38;5;241m.\u001b[39m_mgr \u001b[38;5;241m=\u001b[39m \u001b[38;5;28;43mself\u001b[39;49m\u001b[38;5;241;43m.\u001b[39;49m\u001b[43mobj\u001b[49m\u001b[38;5;241;43m.\u001b[39;49m\u001b[43m_mgr\u001b[49m\u001b[38;5;241;43m.\u001b[39;49m\u001b[43msetitem\u001b[49m\u001b[43m(\u001b[49m\u001b[43mindexer\u001b[49m\u001b[38;5;241;43m=\u001b[39;49m\u001b[43mindexer\u001b[49m\u001b[43m,\u001b[49m\u001b[43m \u001b[49m\u001b[43mvalue\u001b[49m\u001b[38;5;241;43m=\u001b[39;49m\u001b[43mvalue\u001b[49m\u001b[43m)\u001b[49m\n\u001b[1;32m   2079\u001b[0m \u001b[38;5;28mself\u001b[39m\u001b[38;5;241m.\u001b[39mobj\u001b[38;5;241m.\u001b[39m_maybe_update_cacher(clear\u001b[38;5;241m=\u001b[39m\u001b[38;5;28;01mTrue\u001b[39;00m, inplace\u001b[38;5;241m=\u001b[39m\u001b[38;5;28;01mTrue\u001b[39;00m)\n",
      "File \u001b[0;32m~/miniconda3/envs/data_sci/lib/python3.10/site-packages/pandas/core/internals/managers.py:393\u001b[0m, in \u001b[0;36mBaseBlockManager.setitem\u001b[0;34m(self, indexer, value)\u001b[0m\n\u001b[1;32m    388\u001b[0m \u001b[38;5;28;01mif\u001b[39;00m _using_copy_on_write() \u001b[38;5;129;01mand\u001b[39;00m \u001b[38;5;129;01mnot\u001b[39;00m \u001b[38;5;28mself\u001b[39m\u001b[38;5;241m.\u001b[39m_has_no_reference(\u001b[38;5;241m0\u001b[39m):\n\u001b[1;32m    389\u001b[0m     \u001b[38;5;66;03m# if being referenced -> perform Copy-on-Write and clear the reference\u001b[39;00m\n\u001b[1;32m    390\u001b[0m     \u001b[38;5;66;03m# this method is only called if there is a single block -> hardcoded 0\u001b[39;00m\n\u001b[1;32m    391\u001b[0m     \u001b[38;5;28mself\u001b[39m \u001b[38;5;241m=\u001b[39m \u001b[38;5;28mself\u001b[39m\u001b[38;5;241m.\u001b[39mcopy()\n\u001b[0;32m--> 393\u001b[0m \u001b[38;5;28;01mreturn\u001b[39;00m \u001b[38;5;28;43mself\u001b[39;49m\u001b[38;5;241;43m.\u001b[39;49m\u001b[43mapply\u001b[49m\u001b[43m(\u001b[49m\u001b[38;5;124;43m\"\u001b[39;49m\u001b[38;5;124;43msetitem\u001b[39;49m\u001b[38;5;124;43m\"\u001b[39;49m\u001b[43m,\u001b[49m\u001b[43m \u001b[49m\u001b[43mindexer\u001b[49m\u001b[38;5;241;43m=\u001b[39;49m\u001b[43mindexer\u001b[49m\u001b[43m,\u001b[49m\u001b[43m \u001b[49m\u001b[43mvalue\u001b[49m\u001b[38;5;241;43m=\u001b[39;49m\u001b[43mvalue\u001b[49m\u001b[43m)\u001b[49m\n",
      "File \u001b[0;32m~/miniconda3/envs/data_sci/lib/python3.10/site-packages/pandas/core/internals/managers.py:352\u001b[0m, in \u001b[0;36mBaseBlockManager.apply\u001b[0;34m(self, f, align_keys, ignore_failures, **kwargs)\u001b[0m\n\u001b[1;32m    350\u001b[0m         applied \u001b[38;5;241m=\u001b[39m b\u001b[38;5;241m.\u001b[39mapply(f, \u001b[38;5;241m*\u001b[39m\u001b[38;5;241m*\u001b[39mkwargs)\n\u001b[1;32m    351\u001b[0m     \u001b[38;5;28;01melse\u001b[39;00m:\n\u001b[0;32m--> 352\u001b[0m         applied \u001b[38;5;241m=\u001b[39m \u001b[38;5;28;43mgetattr\u001b[39;49m\u001b[43m(\u001b[49m\u001b[43mb\u001b[49m\u001b[43m,\u001b[49m\u001b[43m \u001b[49m\u001b[43mf\u001b[49m\u001b[43m)\u001b[49m\u001b[43m(\u001b[49m\u001b[38;5;241;43m*\u001b[39;49m\u001b[38;5;241;43m*\u001b[39;49m\u001b[43mkwargs\u001b[49m\u001b[43m)\u001b[49m\n\u001b[1;32m    353\u001b[0m \u001b[38;5;28;01mexcept\u001b[39;00m (\u001b[38;5;167;01mTypeError\u001b[39;00m, \u001b[38;5;167;01mNotImplementedError\u001b[39;00m):\n\u001b[1;32m    354\u001b[0m     \u001b[38;5;28;01mif\u001b[39;00m \u001b[38;5;129;01mnot\u001b[39;00m ignore_failures:\n",
      "File \u001b[0;32m~/miniconda3/envs/data_sci/lib/python3.10/site-packages/pandas/core/internals/blocks.py:986\u001b[0m, in \u001b[0;36mBlock.setitem\u001b[0;34m(self, indexer, value)\u001b[0m\n\u001b[1;32m    982\u001b[0m         \u001b[38;5;28;01mif\u001b[39;00m lib\u001b[38;5;241m.\u001b[39mis_list_like(vi):\n\u001b[1;32m    983\u001b[0m             \u001b[38;5;66;03m# checking lib.is_scalar here fails on\u001b[39;00m\n\u001b[1;32m    984\u001b[0m             \u001b[38;5;66;03m#  test_iloc_setitem_custom_object\u001b[39;00m\n\u001b[1;32m    985\u001b[0m             casted \u001b[38;5;241m=\u001b[39m setitem_datetimelike_compat(values, \u001b[38;5;28mlen\u001b[39m(vi), casted)\n\u001b[0;32m--> 986\u001b[0m     values[indexer] \u001b[38;5;241m=\u001b[39m casted\n\u001b[1;32m    987\u001b[0m \u001b[38;5;28;01mreturn\u001b[39;00m \u001b[38;5;28mself\u001b[39m\n",
      "\u001b[0;31mValueError\u001b[0m: shape mismatch: value array of shape (113,) could not be broadcast to indexing result of shape (0,)"
     ]
    }
   ],
   "source": [
    "df_1.loc[df_1['gender'] == 'male', 'fsdf'] = sub_df.loc[sub_df['gender'] == 'male', 'fsdf']"
   ]
  },
  {
   "cell_type": "code",
   "execution_count": 176,
   "id": "98498567-93f5-47c8-adf7-a914b0dde141",
   "metadata": {},
   "outputs": [
    {
     "data": {
      "text/html": [
       "<div>\n",
       "<style scoped>\n",
       "    .dataframe tbody tr th:only-of-type {\n",
       "        vertical-align: middle;\n",
       "    }\n",
       "\n",
       "    .dataframe tbody tr th {\n",
       "        vertical-align: top;\n",
       "    }\n",
       "\n",
       "    .dataframe thead th {\n",
       "        text-align: right;\n",
       "    }\n",
       "</style>\n",
       "<table border=\"1\" class=\"dataframe\">\n",
       "  <thead>\n",
       "    <tr style=\"text-align: right;\">\n",
       "      <th></th>\n",
       "      <th>gender</th>\n",
       "      <th>fsdf</th>\n",
       "    </tr>\n",
       "  </thead>\n",
       "  <tbody>\n",
       "    <tr>\n",
       "      <th>0</th>\n",
       "      <td>female</td>\n",
       "      <td>nurse</td>\n",
       "    </tr>\n",
       "    <tr>\n",
       "      <th>1</th>\n",
       "      <td>female</td>\n",
       "      <td>lawyer</td>\n",
       "    </tr>\n",
       "    <tr>\n",
       "      <th>2</th>\n",
       "      <td>female</td>\n",
       "      <td>nurse</td>\n",
       "    </tr>\n",
       "    <tr>\n",
       "      <th>3</th>\n",
       "      <td>female</td>\n",
       "      <td>lawyer</td>\n",
       "    </tr>\n",
       "    <tr>\n",
       "      <th>5</th>\n",
       "      <td>female</td>\n",
       "      <td>lawyer</td>\n",
       "    </tr>\n",
       "  </tbody>\n",
       "</table>\n",
       "</div>"
      ],
      "text/plain": [
       "   gender    fsdf\n",
       "0  female   nurse\n",
       "1  female  lawyer\n",
       "2  female   nurse\n",
       "3  female  lawyer\n",
       "5  female  lawyer"
      ]
     },
     "execution_count": 176,
     "metadata": {},
     "output_type": "execute_result"
    }
   ],
   "source": [
    "df_1.head()"
   ]
  },
  {
   "cell_type": "code",
   "execution_count": 179,
   "id": "a674c409-9202-4606-a346-d05affe0aa79",
   "metadata": {},
   "outputs": [
    {
     "data": {
      "text/html": [
       "<div>\n",
       "<style scoped>\n",
       "    .dataframe tbody tr th:only-of-type {\n",
       "        vertical-align: middle;\n",
       "    }\n",
       "\n",
       "    .dataframe tbody tr th {\n",
       "        vertical-align: top;\n",
       "    }\n",
       "\n",
       "    .dataframe thead th {\n",
       "        text-align: right;\n",
       "    }\n",
       "</style>\n",
       "<table border=\"1\" class=\"dataframe\">\n",
       "  <thead>\n",
       "    <tr style=\"text-align: right;\">\n",
       "      <th></th>\n",
       "    </tr>\n",
       "  </thead>\n",
       "  <tbody>\n",
       "    <tr>\n",
       "      <th>0</th>\n",
       "    </tr>\n",
       "    <tr>\n",
       "      <th>1</th>\n",
       "    </tr>\n",
       "    <tr>\n",
       "      <th>2</th>\n",
       "    </tr>\n",
       "    <tr>\n",
       "      <th>3</th>\n",
       "    </tr>\n",
       "    <tr>\n",
       "      <th>4</th>\n",
       "    </tr>\n",
       "  </tbody>\n",
       "</table>\n",
       "</div>"
      ],
      "text/plain": [
       "Empty DataFrame\n",
       "Columns: []\n",
       "Index: [0, 1, 2, 3, 4]"
      ]
     },
     "execution_count": 179,
     "metadata": {},
     "output_type": "execute_result"
    }
   ],
   "source": [
    "df.head()"
   ]
  },
  {
   "cell_type": "code",
   "execution_count": 177,
   "id": "7486c8ae-7771-46e6-a185-07e047d9c20e",
   "metadata": {},
   "outputs": [
    {
     "data": {
      "text/html": [
       "<div>\n",
       "<style scoped>\n",
       "    .dataframe tbody tr th:only-of-type {\n",
       "        vertical-align: middle;\n",
       "    }\n",
       "\n",
       "    .dataframe tbody tr th {\n",
       "        vertical-align: top;\n",
       "    }\n",
       "\n",
       "    .dataframe thead th {\n",
       "        text-align: right;\n",
       "    }\n",
       "</style>\n",
       "<table border=\"1\" class=\"dataframe\">\n",
       "  <thead>\n",
       "    <tr style=\"text-align: right;\">\n",
       "      <th></th>\n",
       "      <th>gender</th>\n",
       "      <th>fsdf</th>\n",
       "    </tr>\n",
       "  </thead>\n",
       "  <tbody>\n",
       "    <tr>\n",
       "      <th>4</th>\n",
       "      <td>male</td>\n",
       "      <td>footballer</td>\n",
       "    </tr>\n",
       "    <tr>\n",
       "      <th>8</th>\n",
       "      <td>male</td>\n",
       "      <td>doctor</td>\n",
       "    </tr>\n",
       "    <tr>\n",
       "      <th>10</th>\n",
       "      <td>male</td>\n",
       "      <td>doctor</td>\n",
       "    </tr>\n",
       "    <tr>\n",
       "      <th>13</th>\n",
       "      <td>male</td>\n",
       "      <td>footballer</td>\n",
       "    </tr>\n",
       "    <tr>\n",
       "      <th>16</th>\n",
       "      <td>male</td>\n",
       "      <td>footballer</td>\n",
       "    </tr>\n",
       "  </tbody>\n",
       "</table>\n",
       "</div>"
      ],
      "text/plain": [
       "   gender        fsdf\n",
       "4    male  footballer\n",
       "8    male      doctor\n",
       "10   male      doctor\n",
       "13   male  footballer\n",
       "16   male  footballer"
      ]
     },
     "execution_count": 177,
     "metadata": {},
     "output_type": "execute_result"
    }
   ],
   "source": [
    "sub_df.head()"
   ]
  },
  {
   "cell_type": "code",
   "execution_count": null,
   "id": "60e8a8d8-a9ed-4f1c-81b3-b25ddfbed1f2",
   "metadata": {},
   "outputs": [],
   "source": [
    "df_1.merge(df_2, left_index=True, right_index=True)"
   ]
  },
  {
   "cell_type": "code",
   "execution_count": null,
   "id": "beaaada0-5467-4cb0-93ca-a973cffc4ee0",
   "metadata": {},
   "outputs": [],
   "source": [
    "# parse input from browser\n",
    "# def parse_input_cat_corr_cat(df, cat_names, cat_probs, original_f):\n",
    "#     new_cats = {}\n",
    "#     for cat in df[original_f].unqiue():\n",
    "#         new_cats\n",
    "    "
   ]
  },
  {
   "cell_type": "code",
   "execution_count": 121,
   "id": "112ccb85-39ca-42a2-b897-841343fd9657",
   "metadata": {},
   "outputs": [],
   "source": []
  },
  {
   "cell_type": "code",
   "execution_count": 109,
   "id": "0b6aa411-c876-4156-8a68-59e953780f2c",
   "metadata": {},
   "outputs": [],
   "source": []
  },
  {
   "cell_type": "code",
   "execution_count": 115,
   "id": "647ff8c2-9790-41d2-af9f-8d450ed4b710",
   "metadata": {},
   "outputs": [
    {
     "data": {
      "text/html": [
       "<div>\n",
       "<style scoped>\n",
       "    .dataframe tbody tr th:only-of-type {\n",
       "        vertical-align: middle;\n",
       "    }\n",
       "\n",
       "    .dataframe tbody tr th {\n",
       "        vertical-align: top;\n",
       "    }\n",
       "\n",
       "    .dataframe thead th {\n",
       "        text-align: right;\n",
       "    }\n",
       "</style>\n",
       "<table border=\"1\" class=\"dataframe\">\n",
       "  <thead>\n",
       "    <tr style=\"text-align: right;\">\n",
       "      <th></th>\n",
       "      <th>gender</th>\n",
       "    </tr>\n",
       "  </thead>\n",
       "  <tbody>\n",
       "    <tr>\n",
       "      <th>4</th>\n",
       "      <td>male</td>\n",
       "    </tr>\n",
       "    <tr>\n",
       "      <th>8</th>\n",
       "      <td>male</td>\n",
       "    </tr>\n",
       "    <tr>\n",
       "      <th>10</th>\n",
       "      <td>male</td>\n",
       "    </tr>\n",
       "    <tr>\n",
       "      <th>13</th>\n",
       "      <td>male</td>\n",
       "    </tr>\n",
       "    <tr>\n",
       "      <th>16</th>\n",
       "      <td>male</td>\n",
       "    </tr>\n",
       "    <tr>\n",
       "      <th>...</th>\n",
       "      <td>...</td>\n",
       "    </tr>\n",
       "    <tr>\n",
       "      <th>283</th>\n",
       "      <td>male</td>\n",
       "    </tr>\n",
       "    <tr>\n",
       "      <th>286</th>\n",
       "      <td>male</td>\n",
       "    </tr>\n",
       "    <tr>\n",
       "      <th>289</th>\n",
       "      <td>male</td>\n",
       "    </tr>\n",
       "    <tr>\n",
       "      <th>296</th>\n",
       "      <td>male</td>\n",
       "    </tr>\n",
       "    <tr>\n",
       "      <th>299</th>\n",
       "      <td>male</td>\n",
       "    </tr>\n",
       "  </tbody>\n",
       "</table>\n",
       "<p>113 rows × 1 columns</p>\n",
       "</div>"
      ],
      "text/plain": [
       "    gender\n",
       "4     male\n",
       "8     male\n",
       "10    male\n",
       "13    male\n",
       "16    male\n",
       "..     ...\n",
       "283   male\n",
       "286   male\n",
       "289   male\n",
       "296   male\n",
       "299   male\n",
       "\n",
       "[113 rows x 1 columns]"
      ]
     },
     "execution_count": 115,
     "metadata": {},
     "output_type": "execute_result"
    }
   ],
   "source": [
    "df.loc[df['gender'] == 'male']"
   ]
  },
  {
   "cell_type": "code",
   "execution_count": 108,
   "id": "e6c4c18a-1c3c-4f68-a9a1-668f7431c793",
   "metadata": {},
   "outputs": [
    {
     "data": {
      "text/plain": [
       "array(['female', 'male'], dtype=object)"
      ]
     },
     "execution_count": 108,
     "metadata": {},
     "output_type": "execute_result"
    }
   ],
   "source": [
    "df['gender'].unique()"
   ]
  },
  {
   "cell_type": "code",
   "execution_count": 46,
   "id": "6317157a-a38a-45ef-a688-79e2b2b1729b",
   "metadata": {},
   "outputs": [
    {
     "data": {
      "text/html": [
       "<div>\n",
       "<style scoped>\n",
       "    .dataframe tbody tr th:only-of-type {\n",
       "        vertical-align: middle;\n",
       "    }\n",
       "\n",
       "    .dataframe tbody tr th {\n",
       "        vertical-align: top;\n",
       "    }\n",
       "\n",
       "    .dataframe thead th {\n",
       "        text-align: right;\n",
       "    }\n",
       "</style>\n",
       "<table border=\"1\" class=\"dataframe\">\n",
       "  <thead>\n",
       "    <tr style=\"text-align: right;\">\n",
       "      <th></th>\n",
       "      <th>gender</th>\n",
       "    </tr>\n",
       "  </thead>\n",
       "  <tbody>\n",
       "    <tr>\n",
       "      <th>0</th>\n",
       "      <td>female</td>\n",
       "    </tr>\n",
       "    <tr>\n",
       "      <th>1</th>\n",
       "      <td>male</td>\n",
       "    </tr>\n",
       "    <tr>\n",
       "      <th>2</th>\n",
       "      <td>male</td>\n",
       "    </tr>\n",
       "    <tr>\n",
       "      <th>3</th>\n",
       "      <td>female</td>\n",
       "    </tr>\n",
       "    <tr>\n",
       "      <th>4</th>\n",
       "      <td>female</td>\n",
       "    </tr>\n",
       "  </tbody>\n",
       "</table>\n",
       "</div>"
      ],
      "text/plain": [
       "   gender\n",
       "0  female\n",
       "1    male\n",
       "2    male\n",
       "3  female\n",
       "4  female"
      ]
     },
     "execution_count": 46,
     "metadata": {},
     "output_type": "execute_result"
    }
   ],
   "source": [
    "df.loc[df['gender'] = cats[0]]['"
   ]
  },
  {
   "cell_type": "code",
   "execution_count": null,
   "id": "54dcb47f-e76d-429c-9de8-e05e595618a6",
   "metadata": {},
   "outputs": [],
   "source": []
  },
  {
   "cell_type": "code",
   "execution_count": null,
   "id": "3da073c4-5780-4efc-aa88-c28afa2e2158",
   "metadata": {},
   "outputs": [],
   "source": []
  },
  {
   "cell_type": "code",
   "execution_count": null,
   "id": "074d830f-541a-4f9f-9ba5-683ca0c9c381",
   "metadata": {},
   "outputs": [],
   "source": []
  },
  {
   "cell_type": "code",
   "execution_count": null,
   "id": "df246f71-192d-43e1-abc5-3679d07866a7",
   "metadata": {},
   "outputs": [],
   "source": []
  },
  {
   "cell_type": "code",
   "execution_count": null,
   "id": "ceea9114-2ac1-4496-a4ae-29ff379650e0",
   "metadata": {},
   "outputs": [],
   "source": []
  },
  {
   "cell_type": "code",
   "execution_count": 15,
   "id": "b8f68ee8-4783-41af-8ef0-7f625097fd28",
   "metadata": {},
   "outputs": [],
   "source": [
    "df['norm_2'] = np.random.normal(50, 3, n)"
   ]
  },
  {
   "cell_type": "code",
   "execution_count": null,
   "id": "dccd6707-818f-48e9-aa52-dda32da64120",
   "metadata": {},
   "outputs": [],
   "source": []
  },
  {
   "cell_type": "code",
   "execution_count": null,
   "id": "bfc5641a-f8f4-4d7b-8a98-00df3125f70e",
   "metadata": {},
   "outputs": [],
   "source": []
  },
  {
   "cell_type": "code",
   "execution_count": null,
   "id": "7a42da8a-7ae8-483d-b208-a2030324362f",
   "metadata": {},
   "outputs": [],
   "source": []
  }
 ],
 "metadata": {
  "kernelspec": {
   "display_name": "Python 3",
   "language": "python",
   "name": "python3"
  },
  "language_info": {
   "codemirror_mode": {
    "name": "ipython",
    "version": 3
   },
   "file_extension": ".py",
   "mimetype": "text/x-python",
   "name": "python",
   "nbconvert_exporter": "python",
   "pygments_lexer": "ipython3",
   "version": "3.6.6+"
  }
 },
 "nbformat": 4,
 "nbformat_minor": 5
}
