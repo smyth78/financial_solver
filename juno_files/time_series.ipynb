{
 "cells": [
  {
   "cell_type": "code",
   "execution_count": 2,
   "metadata": {},
   "outputs": [],
   "source": [
    "import pandas as pd\n",
    "import seaborn as sns\n",
    "import matplotlib.pyplot as plt\n",
    "import numpy as np\n",
    "\n",
    "df = pd.DataFrame()"
   ]
  },
  {
   "cell_type": "markdown",
   "metadata": {},
   "source": [
    "Variables:\n",
    "* evenly spaced\n",
    "* choice of function\n",
    "* parameters\n",
    "* x min/max\n",
    "* noise (0-1)"
   ]
  },
  {
   "cell_type": "code",
   "execution_count": 60,
   "metadata": {},
   "outputs": [],
   "source": [
    "def get_time_series(even_spaced, func, size, params, x_minimum, x_maximum, noise_level):\n",
    "    x_vals = np.linspace(x_minimum, x_maximum, num=n, endpoint=True) if even_spaced else np.random.uniform(x_minimum, x_maximum, size=n)\n",
    "    y_vals = get_data_points(func, params, x_vals)\n",
    "    y_vals = add_noise(y_vals, noise_level)\n",
    "    return [x_vals, y_vals]"
   ]
  },
  {
   "cell_type": "code",
   "execution_count": 64,
   "metadata": {},
   "outputs": [],
   "source": [
    "def get_data_points(f, p, x):\n",
    "    if f in ['sin', 'cos', 'tan']:\n",
    "        a, b, c, d = p[0], p[1], p[2], p[3]\n",
    "        if f == 'sin':\n",
    "            x = b * (x + c)\n",
    "            return a * np.sin(x) + d"
   ]
  },
  {
   "cell_type": "code",
   "execution_count": 31,
   "metadata": {},
   "outputs": [],
   "source": [
    "def add_noise(points, noise_level):\n",
    "    hard_code_factor = 3\n",
    "    noise = np.random.normal(0, np.mean(np.abs(points))/hard_code_factor*noise_level, len(points))\n",
    "    points += noise\n",
    "    return points"
   ]
  },
  {
   "cell_type": "code",
   "execution_count": 9,
   "metadata": {},
   "outputs": [
    {
     "data": {
      "image/png": "[encoded data removed]",
      "text/plain": [
       "<Figure size 480x360 with 1 Axes>"
      ]
     },
     "metadata": {
      "image/png": {
       "height": 249,
       "width": 410
      }
     },
     "output_type": "display_data"
    }
   ],
   "source": [
    "params = [1, 2, np.pi/2, 2]\n",
    "func = 'sin'\n",
    "n = 20\n",
    "x_min = 0\n",
    "x_max = 2*np.pi\n",
    "noise = 0.4\n",
    "data = get_time_series(True, func, n, params, x_min, x_max, noise)\n",
    "func_x = np.arange(x_min, x_max, 0.1)\n",
    "plt.scatter(data[0], data[1])\n",
    "plt.scatter(func_x, params[0]*np.sin((func_x + params[2]) * params[1]) + params[3], s=1)\n",
    "ax = plt.gca()\n",
    "ax.grid(True)\n",
    "ax.set_aspect(1.0)\n",
    "ax.axhline(x_min, color='black', lw=2)\n",
    "ax.axvline(x_min, color='black', lw=2)\n",
    "ax.xaxis.set_major_locator(plt.MultipleLocator(np.pi / 2))\n",
    "ax.xaxis.set_minor_locator(plt.MultipleLocator(np.pi / 12))\n",
    "ax.xaxis.set_major_formatter(plt.FuncFormatter(multiple_formatter()))\n",
    "plt.show()"
   ]
  },
  {
   "cell_type": "code",
   "execution_count": null,
   "metadata": {},
   "outputs": [],
   "source": []
  },
  {
   "cell_type": "code",
   "execution_count": 40,
   "metadata": {},
   "outputs": [],
   "source": [
    "import numpy as np\n",
    "import matplotlib.pyplot as plt\n",
    "\n",
    "def multiple_formatter(denominator=2, number=np.pi, latex='\\pi'):\n",
    "    def gcd(a, b):\n",
    "        while b:\n",
    "            a, b = b, a%b\n",
    "        return a\n",
    "    def _multiple_formatter(x, pos):\n",
    "        den = denominator\n",
    "        num = np.int(np.rint(den*x/number))\n",
    "        com = gcd(num,den)\n",
    "        (num,den) = (int(num/com),int(den/com))\n",
    "        if den==1:\n",
    "            if num==0:\n",
    "                return r'$0$'\n",
    "            if num==1:\n",
    "                return r'$%s$'%latex\n",
    "            elif num==-1:\n",
    "                return r'$-%s$'%latex\n",
    "            else:\n",
    "                return r'$%s%s$'%(num,latex)\n",
    "        else:\n",
    "            if num==1:\n",
    "                return r'$\\frac{%s}{%s}$'%(latex,den)\n",
    "            elif num==-1:\n",
    "                return r'$\\frac{-%s}{%s}$'%(latex,den)\n",
    "            else:\n",
    "                return r'$\\frac{%s%s}{%s}$'%(num,latex,den)\n",
    "    return _multiple_formatter\n",
    "\n",
    "class Multiple:\n",
    "    def __init__(self, denominator=2, number=np.pi, latex='\\pi'):\n",
    "        self.denominator = denominator\n",
    "        self.number = number\n",
    "        self.latex = latex\n",
    "\n",
    "    def locator(self):\n",
    "        return plt.MultipleLocator(self.number / self.denominator)\n",
    "\n",
    "    def formatter(self):\n",
    "        return plt.FuncFormatter(multiple_formatter(self.denominator, self.number, self.latex))"
   ]
  },
  {
   "cell_type": "code",
   "execution_count": null,
   "metadata": {},
   "outputs": [],
   "source": []
  }
 ],
 "metadata": {
  "kernelspec": {
   "display_name": "Python 3",
   "language": "python",
   "name": "python3"
  },
  "language_info": {
   "codemirror_mode": {
    "name": "ipython",
    "version": 3
   },
   "file_extension": ".py",
   "mimetype": "text/x-python",
   "name": "python",
   "nbconvert_exporter": "python",
   "pygments_lexer": "ipython3",
   "version": "3.6.6+"
  }
 },
 "nbformat": 4,
 "nbformat_minor": 2
}
